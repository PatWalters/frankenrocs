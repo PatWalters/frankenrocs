{
 "cells": [
  {
   "cell_type": "code",
   "execution_count": 1,
   "id": "be0f591f",
   "metadata": {},
   "outputs": [],
   "source": [
    "from rdkit import Chem\n",
    "from rdkit.Chem.rdMolTransforms import ComputeCentroid\n",
    "from rdkit.Chem.AllChem import ComputeMolVolume\n",
    "import numpy as np\n",
    "from rdkit.Chem import PandasTools\n",
    "from sklearn.metrics import pairwise_distances\n",
    "from tqdm.auto import tqdm\n",
    "import pandas as pd\n",
    "import py3Dmol\n",
    "import seaborn as sns"
   ]
  },
  {
   "cell_type": "code",
   "execution_count": 2,
   "id": "03291906",
   "metadata": {},
   "outputs": [],
   "source": [
    "tqdm.pandas()"
   ]
  },
  {
   "cell_type": "markdown",
   "id": "65f5e8ab",
   "metadata": {},
   "source": [
    "Define a couple of utility functions"
   ]
  },
  {
   "cell_type": "code",
   "execution_count": 3,
   "id": "3182b54c",
   "metadata": {},
   "outputs": [],
   "source": [
    "def read_sdf(infile_name):\n",
    "    suppl = Chem.SDMolSupplier(infile_name)\n",
    "    for mol in suppl:\n",
    "        break\n",
    "    return mol\n",
    "\n",
    "def get_center(mol):\n",
    "    return np.array(ComputeCentroid(mol.GetConformer(0)))"
   ]
  },
  {
   "cell_type": "markdown",
   "id": "3cb0f934",
   "metadata": {},
   "source": [
    "Define a function to show 3D structures with py3Dmol"
   ]
  },
  {
   "cell_type": "code",
   "execution_count": 4,
   "id": "1f519dd1",
   "metadata": {},
   "outputs": [],
   "source": [
    "def MolTo3DView(mol, size=(300, 300), style=\"stick\", surface=False, opacity=0.5):\n",
    "    \"\"\"Draw molecule in 3D\n",
    "    \n",
    "    Args:\n",
    "    ----\n",
    "        mol: rdMol, molecule to show\n",
    "        size: tuple(int, int), canvas size\n",
    "        style: str, type of drawing molecule\n",
    "               style can be 'line', 'stick', 'sphere', 'carton'\n",
    "        surface, bool, display SAS\n",
    "        opacity, float, opacity of surface, range 0.0-1.0\n",
    "    Return:\n",
    "    ----\n",
    "        viewer: py3Dmol.view, a class for constructing embedded 3Dmol.js views in ipython notebooks.\n",
    "    \"\"\"\n",
    "    assert style in ('line', 'stick', 'sphere', 'carton')\n",
    "    mblock = Chem.MolToMolBlock(mol)\n",
    "    viewer = py3Dmol.view(width=size[0], height=size[1])\n",
    "    viewer.addModel(mblock, 'mol')\n",
    "    viewer.setStyle({style:{}})\n",
    "    if surface:\n",
    "        viewer.addSurface(py3Dmol.SAS, {'opacity': opacity})\n",
    "    viewer.zoomTo()\n",
    "    return viewer"
   ]
  },
  {
   "cell_type": "markdown",
   "id": "a02ec37f",
   "metadata": {},
   "source": [
    "Read the SD file with the fragments into a Pandas dataframe"
   ]
  },
  {
   "cell_type": "code",
   "execution_count": 5,
   "id": "4555a9fd",
   "metadata": {},
   "outputs": [
    {
     "data": {
      "text/plain": [
       "(204, 3)"
      ]
     },
     "execution_count": 5,
     "metadata": {},
     "output_type": "execute_result"
    }
   ],
   "source": [
    "df = PandasTools.LoadSDF(\"ligs.sdf\")\n",
    "df.shape"
   ]
  },
  {
   "cell_type": "markdown",
   "id": "b27a1673",
   "metadata": {},
   "source": [
    "Add the center and volume for each fragment to the dataframe"
   ]
  },
  {
   "cell_type": "code",
   "execution_count": 6,
   "id": "5792f7f5",
   "metadata": {},
   "outputs": [
    {
     "data": {
      "application/vnd.jupyter.widget-view+json": {
       "model_id": "4a08aae34f82430abd45f10f5cd2cd55",
       "version_major": 2,
       "version_minor": 0
      },
      "text/plain": [
       "  0%|          | 0/204 [00:00<?, ?it/s]"
      ]
     },
     "metadata": {},
     "output_type": "display_data"
    },
    {
     "data": {
      "application/vnd.jupyter.widget-view+json": {
       "model_id": "51909dc2b9664d81898ce04b5846eb7a",
       "version_major": 2,
       "version_minor": 0
      },
      "text/plain": [
       "  0%|          | 0/204 [00:00<?, ?it/s]"
      ]
     },
     "metadata": {},
     "output_type": "display_data"
    }
   ],
   "source": [
    "df['center'] = df.ROMol.progress_apply(get_center)\n",
    "df['volume'] = df.ROMol.progress_apply(ComputeMolVolume)"
   ]
  },
  {
   "cell_type": "markdown",
   "id": "99c22a0f",
   "metadata": {},
   "source": [
    "Create a matrix of distances between molecule centers"
   ]
  },
  {
   "cell_type": "code",
   "execution_count": 7,
   "id": "6a8c8d0e",
   "metadata": {},
   "outputs": [
    {
     "data": {
      "text/plain": [
       "(204, 204)"
      ]
     },
     "execution_count": 7,
     "metadata": {},
     "output_type": "execute_result"
    }
   ],
   "source": [
    "center_list = np.stack(df.center.values)\n",
    "dist_mat = pairwise_distances(center_list,center_list)\n",
    "dist_mat.shape"
   ]
  },
  {
   "cell_type": "markdown",
   "id": "9cf77a58",
   "metadata": {},
   "source": [
    "Loop over dist_mat and collect all pairs of fragments where the distance is less than dist_cutoff.  Calcualte volume of the fragment pair and the ratio of the volume of the fragment pair to the sum of the volumes of the individual fragments. "
   ]
  },
  {
   "cell_type": "code",
   "execution_count": 8,
   "id": "1c53548f",
   "metadata": {},
   "outputs": [
    {
     "data": {
      "application/vnd.jupyter.widget-view+json": {
       "model_id": "9ce9185c851d4d6d88654b465096a0b1",
       "version_major": 2,
       "version_minor": 0
      },
      "text/plain": [
       "  0%|          | 0/13444 [00:00<?, ?it/s]"
      ]
     },
     "metadata": {},
     "output_type": "display_data"
    }
   ],
   "source": [
    "dist_cutoff = 20\n",
    "res = []\n",
    "for i,j in tqdm(np.argwhere(dist_mat < dist_cutoff)):\n",
    "    if i < j: \n",
    "        mol_i = df.ROMol.values[i]\n",
    "        mol_j = df.ROMol.values[j]\n",
    "        vol_i = df.volume.values[i]\n",
    "        vol_j = df.volume.values[j]\n",
    "        name_i = df.Name.values[i]\n",
    "        name_j = df.Name.values[j]\n",
    "        combo_mol = Chem.CombineMols(mol_i,mol_j)\n",
    "        combo_vol = ComputeMolVolume(combo_mol)        \n",
    "        sum_vol = vol_i + vol_j\n",
    "        res.append([combo_mol,i,j,name_i,name_j,dist_mat[i,j],vol_i, vol_j, combo_vol, combo_vol/sum_vol])  "
   ]
  },
  {
   "cell_type": "markdown",
   "id": "f2045aa9",
   "metadata": {},
   "source": [
    "Plug the results of the previous cell into a dataframe. "
   ]
  },
  {
   "cell_type": "code",
   "execution_count": 9,
   "id": "2072c52a",
   "metadata": {},
   "outputs": [],
   "source": [
    "cols = [\"ROMol\",\"i\",\"j\",\"name_i\",\"name_j\",\"dist\",\"vol_i\",\"vol_j\",\"combo_vol\",\"vol_ratio\"]\n",
    "vol_df = pd.DataFrame(res,columns=cols)"
   ]
  },
  {
   "cell_type": "code",
   "execution_count": 10,
   "id": "297d0002",
   "metadata": {},
   "outputs": [],
   "source": [
    "sns.set_context('talk')"
   ]
  },
  {
   "cell_type": "code",
   "execution_count": 11,
   "id": "2766be87",
   "metadata": {},
   "outputs": [
    {
     "data": {
      "text/plain": [
       "Text(0.5, 21.44444444444443, 'Distance Between Centers')"
      ]
     },
     "execution_count": 11,
     "metadata": {},
     "output_type": "execute_result"
    },
    {
     "data": {
      "image/png": "[encoded data removed]",
      "text/plain": [
       "<Figure size 500x500 with 1 Axes>"
      ]
     },
     "metadata": {},
     "output_type": "display_data"
    }
   ],
   "source": [
    "ax = sns.displot(np.reshape(dist_mat,-1))\n",
    "ax.axes[0,0].set_xlabel(\"Distance Between Centers\")"
   ]
  },
  {
   "cell_type": "markdown",
   "id": "e29219bd",
   "metadata": {},
   "source": [
    "Plot the distribution of volume ratios"
   ]
  },
  {
   "cell_type": "code",
   "execution_count": 12,
   "id": "e5dfb0ee",
   "metadata": {},
   "outputs": [
    {
     "data": {
      "text/plain": [
       "Text(0.5, 21.44444444444443, 'Volume Ratio')"
      ]
     },
     "execution_count": 12,
     "metadata": {},
     "output_type": "execute_result"
    },
    {
     "data": {
      "image/png": "[encoded data removed]",
      "text/plain": [
       "<Figure size 500x500 with 1 Axes>"
      ]
     },
     "metadata": {},
     "output_type": "display_data"
    }
   ],
   "source": [
    "g = sns.displot(vol_df.vol_ratio)\n",
    "g.axes[0,0].set_xlabel(\"Volume Ratio\")\n"
   ]
  },
  {
   "cell_type": "markdown",
   "id": "971e6681",
   "metadata": {},
   "source": [
    "Bin the volume ratio into 5 bins"
   ]
  },
  {
   "cell_type": "code",
   "execution_count": 13,
   "id": "88dc2802",
   "metadata": {},
   "outputs": [],
   "source": [
    "vol_df['bin'] = pd.qcut(vol_df.vol_ratio,q=5,labels=[1,2,3,4,5])"
   ]
  },
  {
   "cell_type": "markdown",
   "id": "74d9af78",
   "metadata": {},
   "source": [
    "Examine structure pairs in different bins.  Change bin_val to see structures. "
   ]
  },
  {
   "cell_type": "code",
   "execution_count": 17,
   "id": "b27daf1a",
   "metadata": {},
   "outputs": [
    {
     "data": {
      "text/html": [
       "<div>\n",
       "<style scoped>\n",
       "    .dataframe tbody tr th:only-of-type {\n",
       "        vertical-align: middle;\n",
       "    }\n",
       "\n",
       "    .dataframe tbody tr th {\n",
       "        vertical-align: top;\n",
       "    }\n",
       "\n",
       "    .dataframe thead th {\n",
       "        text-align: right;\n",
       "    }\n",
       "</style>\n",
       "<table border=\"1\" class=\"dataframe\">\n",
       "  <thead>\n",
       "    <tr style=\"text-align: right;\">\n",
       "      <th></th>\n",
       "      <th>ROMol</th>\n",
       "      <th>i</th>\n",
       "      <th>j</th>\n",
       "      <th>name_i</th>\n",
       "      <th>name_j</th>\n",
       "      <th>dist</th>\n",
       "      <th>vol_i</th>\n",
       "      <th>vol_j</th>\n",
       "      <th>combo_vol</th>\n",
       "      <th>vol_ratio</th>\n",
       "      <th>bin</th>\n",
       "    </tr>\n",
       "  </thead>\n",
       "  <tbody>\n",
       "    <tr>\n",
       "      <th>2</th>\n",
       "      <td>&lt;rdkit.Chem.rdchem.Mol object at 0x3054a7ca0&gt;</td>\n",
       "      <td>1</td>\n",
       "      <td>2</td>\n",
       "      <td>5RVJ</td>\n",
       "      <td>5RVK</td>\n",
       "      <td>15.347336</td>\n",
       "      <td>129.408</td>\n",
       "      <td>151.144</td>\n",
       "      <td>280.536</td>\n",
       "      <td>0.999943</td>\n",
       "      <td>5</td>\n",
       "    </tr>\n",
       "    <tr>\n",
       "      <th>3</th>\n",
       "      <td>&lt;rdkit.Chem.rdchem.Mol object at 0x3054a7290&gt;</td>\n",
       "      <td>1</td>\n",
       "      <td>4</td>\n",
       "      <td>5RVJ</td>\n",
       "      <td>5RVM</td>\n",
       "      <td>19.274792</td>\n",
       "      <td>129.408</td>\n",
       "      <td>110.336</td>\n",
       "      <td>239.680</td>\n",
       "      <td>0.999733</td>\n",
       "      <td>5</td>\n",
       "    </tr>\n",
       "    <tr>\n",
       "      <th>4</th>\n",
       "      <td>&lt;rdkit.Chem.rdchem.Mol object at 0x3054a71b0&gt;</td>\n",
       "      <td>1</td>\n",
       "      <td>5</td>\n",
       "      <td>5RVJ</td>\n",
       "      <td>5RVN</td>\n",
       "      <td>18.818836</td>\n",
       "      <td>129.408</td>\n",
       "      <td>121.560</td>\n",
       "      <td>251.016</td>\n",
       "      <td>1.000191</td>\n",
       "      <td>5</td>\n",
       "    </tr>\n",
       "    <tr>\n",
       "      <th>5</th>\n",
       "      <td>&lt;rdkit.Chem.rdchem.Mol object at 0x3054a6f10&gt;</td>\n",
       "      <td>1</td>\n",
       "      <td>8</td>\n",
       "      <td>5RVJ</td>\n",
       "      <td>5RVQ</td>\n",
       "      <td>19.459123</td>\n",
       "      <td>129.408</td>\n",
       "      <td>138.768</td>\n",
       "      <td>268.384</td>\n",
       "      <td>1.000776</td>\n",
       "      <td>5</td>\n",
       "    </tr>\n",
       "    <tr>\n",
       "      <th>6</th>\n",
       "      <td>&lt;rdkit.Chem.rdchem.Mol object at 0x3054a7140&gt;</td>\n",
       "      <td>1</td>\n",
       "      <td>10</td>\n",
       "      <td>5RVJ</td>\n",
       "      <td>5RVS</td>\n",
       "      <td>18.511077</td>\n",
       "      <td>129.408</td>\n",
       "      <td>160.840</td>\n",
       "      <td>290.216</td>\n",
       "      <td>0.999890</td>\n",
       "      <td>5</td>\n",
       "    </tr>\n",
       "    <tr>\n",
       "      <th>...</th>\n",
       "      <td>...</td>\n",
       "      <td>...</td>\n",
       "      <td>...</td>\n",
       "      <td>...</td>\n",
       "      <td>...</td>\n",
       "      <td>...</td>\n",
       "      <td>...</td>\n",
       "      <td>...</td>\n",
       "      <td>...</td>\n",
       "      <td>...</td>\n",
       "      <td>...</td>\n",
       "    </tr>\n",
       "    <tr>\n",
       "      <th>6604</th>\n",
       "      <td>&lt;rdkit.Chem.rdchem.Mol object at 0x305ea1d90&gt;</td>\n",
       "      <td>196</td>\n",
       "      <td>202</td>\n",
       "      <td>5S44</td>\n",
       "      <td>5S4J</td>\n",
       "      <td>7.438507</td>\n",
       "      <td>119.704</td>\n",
       "      <td>107.912</td>\n",
       "      <td>227.528</td>\n",
       "      <td>0.999613</td>\n",
       "      <td>5</td>\n",
       "    </tr>\n",
       "    <tr>\n",
       "      <th>6609</th>\n",
       "      <td>&lt;rdkit.Chem.rdchem.Mol object at 0x305ea1af0&gt;</td>\n",
       "      <td>197</td>\n",
       "      <td>202</td>\n",
       "      <td>5S45</td>\n",
       "      <td>5S4J</td>\n",
       "      <td>8.028806</td>\n",
       "      <td>139.520</td>\n",
       "      <td>107.912</td>\n",
       "      <td>247.560</td>\n",
       "      <td>1.000517</td>\n",
       "      <td>5</td>\n",
       "    </tr>\n",
       "    <tr>\n",
       "      <th>6611</th>\n",
       "      <td>&lt;rdkit.Chem.rdchem.Mol object at 0x305ea2030&gt;</td>\n",
       "      <td>198</td>\n",
       "      <td>200</td>\n",
       "      <td>5S46</td>\n",
       "      <td>5S4H</td>\n",
       "      <td>5.214817</td>\n",
       "      <td>73.304</td>\n",
       "      <td>132.120</td>\n",
       "      <td>205.592</td>\n",
       "      <td>1.000818</td>\n",
       "      <td>5</td>\n",
       "    </tr>\n",
       "    <tr>\n",
       "      <th>6612</th>\n",
       "      <td>&lt;rdkit.Chem.rdchem.Mol object at 0x305ea18c0&gt;</td>\n",
       "      <td>198</td>\n",
       "      <td>201</td>\n",
       "      <td>5S46</td>\n",
       "      <td>5S4I</td>\n",
       "      <td>6.593000</td>\n",
       "      <td>73.304</td>\n",
       "      <td>167.040</td>\n",
       "      <td>240.248</td>\n",
       "      <td>0.999601</td>\n",
       "      <td>5</td>\n",
       "    </tr>\n",
       "    <tr>\n",
       "      <th>6614</th>\n",
       "      <td>&lt;rdkit.Chem.rdchem.Mol object at 0x305ea1f50&gt;</td>\n",
       "      <td>199</td>\n",
       "      <td>200</td>\n",
       "      <td>5S47</td>\n",
       "      <td>5S4H</td>\n",
       "      <td>3.737089</td>\n",
       "      <td>138.176</td>\n",
       "      <td>132.120</td>\n",
       "      <td>270.552</td>\n",
       "      <td>1.000947</td>\n",
       "      <td>5</td>\n",
       "    </tr>\n",
       "  </tbody>\n",
       "</table>\n",
       "<p>1324 rows × 11 columns</p>\n",
       "</div>"
      ],
      "text/plain": [
       "                                              ROMol    i    j name_i name_j  \\\n",
       "2     <rdkit.Chem.rdchem.Mol object at 0x3054a7ca0>    1    2   5RVJ   5RVK   \n",
       "3     <rdkit.Chem.rdchem.Mol object at 0x3054a7290>    1    4   5RVJ   5RVM   \n",
       "4     <rdkit.Chem.rdchem.Mol object at 0x3054a71b0>    1    5   5RVJ   5RVN   \n",
       "5     <rdkit.Chem.rdchem.Mol object at 0x3054a6f10>    1    8   5RVJ   5RVQ   \n",
       "6     <rdkit.Chem.rdchem.Mol object at 0x3054a7140>    1   10   5RVJ   5RVS   \n",
       "...                                             ...  ...  ...    ...    ...   \n",
       "6604  <rdkit.Chem.rdchem.Mol object at 0x305ea1d90>  196  202   5S44   5S4J   \n",
       "6609  <rdkit.Chem.rdchem.Mol object at 0x305ea1af0>  197  202   5S45   5S4J   \n",
       "6611  <rdkit.Chem.rdchem.Mol object at 0x305ea2030>  198  200   5S46   5S4H   \n",
       "6612  <rdkit.Chem.rdchem.Mol object at 0x305ea18c0>  198  201   5S46   5S4I   \n",
       "6614  <rdkit.Chem.rdchem.Mol object at 0x305ea1f50>  199  200   5S47   5S4H   \n",
       "\n",
       "           dist    vol_i    vol_j  combo_vol  vol_ratio bin  \n",
       "2     15.347336  129.408  151.144    280.536   0.999943   5  \n",
       "3     19.274792  129.408  110.336    239.680   0.999733   5  \n",
       "4     18.818836  129.408  121.560    251.016   1.000191   5  \n",
       "5     19.459123  129.408  138.768    268.384   1.000776   5  \n",
       "6     18.511077  129.408  160.840    290.216   0.999890   5  \n",
       "...         ...      ...      ...        ...        ...  ..  \n",
       "6604   7.438507  119.704  107.912    227.528   0.999613   5  \n",
       "6609   8.028806  139.520  107.912    247.560   1.000517   5  \n",
       "6611   5.214817   73.304  132.120    205.592   1.000818   5  \n",
       "6612   6.593000   73.304  167.040    240.248   0.999601   5  \n",
       "6614   3.737089  138.176  132.120    270.552   1.000947   5  \n",
       "\n",
       "[1324 rows x 11 columns]"
      ]
     },
     "execution_count": 17,
     "metadata": {},
     "output_type": "execute_result"
    }
   ],
   "source": [
    "vol_df.query(\"bin == @bin_val\",engine='python')"
   ]
  },
  {
   "cell_type": "code",
   "execution_count": 22,
   "id": "00136ad5",
   "metadata": {},
   "outputs": [
    {
     "data": {
      "application/3dmoljs_load.v0": "<div id=\"3dmolviewer_1719361649861941\"  style=\"position: relative; width: 300px; height: 300px\">\n        <p id=\"3dmolwarning_1719361649861941\" style=\"background-color:#ffcccc;color:black\">You appear to be running in JupyterLab (or JavaScript failed to load for some other reason).  You need to install the 3dmol extension: <br>\n        <tt>jupyter labextension install jupyterlab_3dmol</tt></p>\n        </div>\n<script>\n\nvar loadScriptAsync = function(uri){\n  return new Promise((resolve, reject) => {\n    //this is to ignore the existence of requirejs amd\n    var savedexports, savedmodule;\n    if (typeof exports !== 'undefined') savedexports = exports;\n    else exports = {}\n    if (typeof module !== 'undefined') savedmodule = module;\n    else module = {}\n\n    var tag = document.createElement('script');\n    tag.src = uri;\n    tag.async = true;\n    tag.onload = () => {\n        exports = savedexports;\n        module = savedmodule;\n        resolve();\n    };\n  var firstScriptTag = document.getElementsByTagName('script')[0];\n  firstScriptTag.parentNode.insertBefore(tag, firstScriptTag);\n});\n};\n\nif(typeof $3Dmolpromise === 'undefined') {\n$3Dmolpromise = null;\n  $3Dmolpromise = loadScriptAsync('https://cdnjs.cloudflare.com/ajax/libs/3Dmol/2.0.1/3Dmol-min.js');\n}\n\nvar viewer_1719361649861941 = null;\nvar warn = document.getElementById(\"3dmolwarning_1719361649861941\");\nif(warn) {\n    warn.parentNode.removeChild(warn);\n}\n$3Dmolpromise.then(function() {\nviewer_1719361649861941 = $3Dmol.createViewer(document.getElementById(\"3dmolviewer_1719361649861941\"),{backgroundColor:\"white\"});\nviewer_1719361649861941.zoomTo();\n\tviewer_1719361649861941.addModel(\"\\n     RDKit          3D\\n\\n 52 52  0  0  0  0  0  0  0  0999 V2000\\n   21.2690   45.0650   11.0710 N   0  0  0  0  0  0  0  0  0  0  0  0\\n   21.1770   49.2210   10.5700 C   0  0  0  0  0  0  0  0  0  0  0  0\\n   21.4590   48.6800   11.8080 C   0  0  0  0  0  0  0  0  0  0  0  0\\n   21.4800   47.3060   11.9770 C   0  0  0  0  0  0  0  0  0  0  0  0\\n   21.2000   46.4660   10.8980 C   0  0  0  0  0  0  0  0  0  0  0  0\\n   20.3950   44.2850   11.7390 C   0  0  0  0  0  0  0  0  0  0  0  0\\n   20.5270   46.0890    8.4790 C   0  0  0  0  0  0  0  0  0  0  0  0\\n   20.8980   46.9910    9.6310 C   0  0  0  0  0  0  0  0  0  0  0  0\\n   20.9310   48.3760    9.5080 C   0  0  0  0  0  0  0  0  0  0  0  0\\n   20.8290   42.8200   11.9230 C   0  0  0  0  0  0  0  0  0  0  0  0\\n   20.5440   42.4480   13.3230 N   0  0  0  0  0  0  0  0  0  0  0  0\\n   19.3360   44.6850   12.2080 O   0  0  0  0  0  0  0  0  0  0  0  0\\n   20.8010   49.0910    7.9430 Cl  0  0  0  0  0  0  0  0  0  0  0  0\\n   20.3050   27.7100    2.2200 N   0  0  0  0  0  0  0  0  0  0  0  0\\n   22.5090   28.9370    6.3560 C   0  0  0  0  0  0  0  0  0  0  0  0\\n   22.2020   28.5980    4.8990 C   0  0  0  0  0  0  0  0  0  0  0  0\\n   20.6880   28.4630    4.6730 C   0  0  1  0  0  0  0  0  0  0  0  0\\n   20.4470   28.0370    3.2960 C   0  0  0  0  0  0  0  0  0  0  0  0\\n   20.0630   27.4220    5.6280 C   0  0  1  0  0  0  0  0  0  0  0  0\\n   20.4380   25.9950    5.2630 C   0  0  0  0  0  0  0  0  0  0  0  0\\n   21.9090   27.9000    7.2910 C   0  0  0  0  0  0  0  0  0  0  0  0\\n   20.4510   27.7570    7.0300 N   0  0  0  0  0  0  0  0  0  0  0  0\\n   19.4380   27.5160    8.2820 S   0  0  0  0  0  0  0  0  0  0  0  0\\n   18.2150   27.0220    7.7340 O   0  0  0  0  0  0  0  0  0  0  0  0\\n   19.4150   28.7300    9.0340 O   0  0  0  0  0  0  0  0  0  0  0  0\\n   20.1430   26.2610    9.2840 C   0  0  0  0  0  0  0  0  0  0  0  0\\n   23.7390   60.2060   -0.2010 N   0  0  0  0  0  0  0  0  0  0  0  0\\n   19.8630   63.0180    0.8630 C   0  0  0  0  0  0  0  0  0  0  0  0\\n   21.0160   62.0190    0.9790 C   0  0  0  0  0  0  0  0  0  0  0  0\\n   21.7750   61.9070   -0.3520 C   0  0  1  0  0  0  0  0  0  0  0  0\\n   22.8790   60.9500   -0.2440 C   0  0  0  0  0  0  0  0  0  0  0  0\\n   20.8170   61.4620   -1.4770 C   0  0  1  0  0  0  0  0  0  0  0  0\\n   20.3000   60.0510   -1.2740 C   0  0  0  0  0  0  0  0  0  0  0  0\\n   18.9330   62.6590   -0.2920 C   0  0  0  0  0  0  0  0  0  0  0  0\\n   19.7070   62.4490   -1.5480 N   0  0  0  0  0  0  0  0  0  0  0  0\\n   19.0500   62.8070   -2.9890 S   0  0  0  0  0  0  0  0  0  0  0  0\\n   17.7440   63.3240   -2.7280 O   0  0  0  0  0  0  0  0  0  0  0  0\\n   19.1820   61.6430   -3.8040 O   0  0  0  0  0  0  0  0  0  0  0  0\\n   20.0150   64.0860   -3.6990 C   0  0  0  0  0  0  0  0  0  0  0  0\\n   14.9910   28.4850  -13.5850 N   0  0  0  0  0  0  0  0  0  0  0  0\\n   11.8540   28.2610  -17.3190 C   0  0  0  0  0  0  0  0  0  0  0  0\\n   12.8300   27.8910  -16.2030 C   0  0  0  0  0  0  0  0  0  0  0  0\\n   13.3480   29.1490  -15.4890 C   0  0  1  0  0  0  0  0  0  0  0  0\\n   14.2910   28.7830  -14.4300 C   0  0  0  0  0  0  0  0  0  0  0  0\\n   13.9750   30.1540  -16.4820 C   0  0  1  0  0  0  0  0  0  0  0  0\\n   15.3090   29.6820  -17.0340 C   0  0  0  0  0  0  0  0  0  0  0  0\\n   12.4920   29.2350  -18.2950 C   0  0  0  0  0  0  0  0  0  0  0  0\\n   12.9850   30.4240  -17.5610 N   0  0  0  0  0  0  0  0  0  0  0  0\\n   12.0730   31.7670  -17.6070 S   0  0  0  0  0  0  0  0  0  0  0  0\\n   10.8080   31.3870  -18.1510 O   0  0  0  0  0  0  0  0  0  0  0  0\\n   12.8420   32.7610  -18.2840 O   0  0  0  0  0  0  0  0  0  0  0  0\\n   11.8180   32.2940  -15.9550 C   0  0  0  0  0  0  0  0  0  0  0  0\\n  3  2  2  0\\n  4  3  1  0\\n  5  4  2  0\\n  5  1  1  0\\n  6  1  1  0\\n  8  7  1  0\\n  8  5  1  0\\n  9  8  2  0\\n  9  2  1  0\\n 10  6  1  0\\n 11 10  1  0\\n 12  6  2  0\\n 13  9  1  0\\n 16 15  1  0\\n 17 16  1  0\\n 17 18  1  6\\n 18 14  3  0\\n 19 17  1  0\\n 19 20  1  6\\n 21 15  1  0\\n 22 19  1  0\\n 22 21  1  0\\n 23 22  1  0\\n 24 23  2  0\\n 25 23  2  0\\n 23 26  1  0\\n 29 28  1  0\\n 30 29  1  0\\n 30 31  1  1\\n 31 27  1  0\\n 32 30  1  0\\n 32 33  1  1\\n 34 28  1  0\\n 35 34  1  0\\n 35 32  1  0\\n 36 35  1  0\\n 37 36  1  0\\n 38 36  1  0\\n 36 39  1  0\\n 42 41  1  0\\n 43 42  1  0\\n 43 44  1  1\\n 44 40  1  0\\n 45 43  1  0\\n 45 46  1  6\\n 47 41  1  0\\n 48 47  1  0\\n 48 45  1  0\\n 49 48  1  0\\n 50 49  1  0\\n 51 49  1  0\\n 49 52  1  0\\nM  END\\n\",\"mol\");\n\tviewer_1719361649861941.setStyle({\"stick\": {}});\n\tviewer_1719361649861941.zoomTo();\nviewer_1719361649861941.render();\n});\n</script>",
      "text/html": [
       "<div id=\"3dmolviewer_1719361649861941\"  style=\"position: relative; width: 300px; height: 300px\">\n",
       "        <p id=\"3dmolwarning_1719361649861941\" style=\"background-color:#ffcccc;color:black\">You appear to be running in JupyterLab (or JavaScript failed to load for some other reason).  You need to install the 3dmol extension: <br>\n",
       "        <tt>jupyter labextension install jupyterlab_3dmol</tt></p>\n",
       "        </div>\n",
       "<script>\n",
       "\n",
       "var loadScriptAsync = function(uri){\n",
       "  return new Promise((resolve, reject) => {\n",
       "    //this is to ignore the existence of requirejs amd\n",
       "    var savedexports, savedmodule;\n",
       "    if (typeof exports !== 'undefined') savedexports = exports;\n",
       "    else exports = {}\n",
       "    if (typeof module !== 'undefined') savedmodule = module;\n",
       "    else module = {}\n",
       "\n",
       "    var tag = document.createElement('script');\n",
       "    tag.src = uri;\n",
       "    tag.async = true;\n",
       "    tag.onload = () => {\n",
       "        exports = savedexports;\n",
       "        module = savedmodule;\n",
       "        resolve();\n",
       "    };\n",
       "  var firstScriptTag = document.getElementsByTagName('script')[0];\n",
       "  firstScriptTag.parentNode.insertBefore(tag, firstScriptTag);\n",
       "});\n",
       "};\n",
       "\n",
       "if(typeof $3Dmolpromise === 'undefined') {\n",
       "$3Dmolpromise = null;\n",
       "  $3Dmolpromise = loadScriptAsync('https://cdnjs.cloudflare.com/ajax/libs/3Dmol/2.0.1/3Dmol-min.js');\n",
       "}\n",
       "\n",
       "var viewer_1719361649861941 = null;\n",
       "var warn = document.getElementById(\"3dmolwarning_1719361649861941\");\n",
       "if(warn) {\n",
       "    warn.parentNode.removeChild(warn);\n",
       "}\n",
       "$3Dmolpromise.then(function() {\n",
       "viewer_1719361649861941 = $3Dmol.createViewer(document.getElementById(\"3dmolviewer_1719361649861941\"),{backgroundColor:\"white\"});\n",
       "viewer_1719361649861941.zoomTo();\n",
       "\tviewer_1719361649861941.addModel(\"\\n     RDKit          3D\\n\\n 52 52  0  0  0  0  0  0  0  0999 V2000\\n   21.2690   45.0650   11.0710 N   0  0  0  0  0  0  0  0  0  0  0  0\\n   21.1770   49.2210   10.5700 C   0  0  0  0  0  0  0  0  0  0  0  0\\n   21.4590   48.6800   11.8080 C   0  0  0  0  0  0  0  0  0  0  0  0\\n   21.4800   47.3060   11.9770 C   0  0  0  0  0  0  0  0  0  0  0  0\\n   21.2000   46.4660   10.8980 C   0  0  0  0  0  0  0  0  0  0  0  0\\n   20.3950   44.2850   11.7390 C   0  0  0  0  0  0  0  0  0  0  0  0\\n   20.5270   46.0890    8.4790 C   0  0  0  0  0  0  0  0  0  0  0  0\\n   20.8980   46.9910    9.6310 C   0  0  0  0  0  0  0  0  0  0  0  0\\n   20.9310   48.3760    9.5080 C   0  0  0  0  0  0  0  0  0  0  0  0\\n   20.8290   42.8200   11.9230 C   0  0  0  0  0  0  0  0  0  0  0  0\\n   20.5440   42.4480   13.3230 N   0  0  0  0  0  0  0  0  0  0  0  0\\n   19.3360   44.6850   12.2080 O   0  0  0  0  0  0  0  0  0  0  0  0\\n   20.8010   49.0910    7.9430 Cl  0  0  0  0  0  0  0  0  0  0  0  0\\n   20.3050   27.7100    2.2200 N   0  0  0  0  0  0  0  0  0  0  0  0\\n   22.5090   28.9370    6.3560 C   0  0  0  0  0  0  0  0  0  0  0  0\\n   22.2020   28.5980    4.8990 C   0  0  0  0  0  0  0  0  0  0  0  0\\n   20.6880   28.4630    4.6730 C   0  0  1  0  0  0  0  0  0  0  0  0\\n   20.4470   28.0370    3.2960 C   0  0  0  0  0  0  0  0  0  0  0  0\\n   20.0630   27.4220    5.6280 C   0  0  1  0  0  0  0  0  0  0  0  0\\n   20.4380   25.9950    5.2630 C   0  0  0  0  0  0  0  0  0  0  0  0\\n   21.9090   27.9000    7.2910 C   0  0  0  0  0  0  0  0  0  0  0  0\\n   20.4510   27.7570    7.0300 N   0  0  0  0  0  0  0  0  0  0  0  0\\n   19.4380   27.5160    8.2820 S   0  0  0  0  0  0  0  0  0  0  0  0\\n   18.2150   27.0220    7.7340 O   0  0  0  0  0  0  0  0  0  0  0  0\\n   19.4150   28.7300    9.0340 O   0  0  0  0  0  0  0  0  0  0  0  0\\n   20.1430   26.2610    9.2840 C   0  0  0  0  0  0  0  0  0  0  0  0\\n   23.7390   60.2060   -0.2010 N   0  0  0  0  0  0  0  0  0  0  0  0\\n   19.8630   63.0180    0.8630 C   0  0  0  0  0  0  0  0  0  0  0  0\\n   21.0160   62.0190    0.9790 C   0  0  0  0  0  0  0  0  0  0  0  0\\n   21.7750   61.9070   -0.3520 C   0  0  1  0  0  0  0  0  0  0  0  0\\n   22.8790   60.9500   -0.2440 C   0  0  0  0  0  0  0  0  0  0  0  0\\n   20.8170   61.4620   -1.4770 C   0  0  1  0  0  0  0  0  0  0  0  0\\n   20.3000   60.0510   -1.2740 C   0  0  0  0  0  0  0  0  0  0  0  0\\n   18.9330   62.6590   -0.2920 C   0  0  0  0  0  0  0  0  0  0  0  0\\n   19.7070   62.4490   -1.5480 N   0  0  0  0  0  0  0  0  0  0  0  0\\n   19.0500   62.8070   -2.9890 S   0  0  0  0  0  0  0  0  0  0  0  0\\n   17.7440   63.3240   -2.7280 O   0  0  0  0  0  0  0  0  0  0  0  0\\n   19.1820   61.6430   -3.8040 O   0  0  0  0  0  0  0  0  0  0  0  0\\n   20.0150   64.0860   -3.6990 C   0  0  0  0  0  0  0  0  0  0  0  0\\n   14.9910   28.4850  -13.5850 N   0  0  0  0  0  0  0  0  0  0  0  0\\n   11.8540   28.2610  -17.3190 C   0  0  0  0  0  0  0  0  0  0  0  0\\n   12.8300   27.8910  -16.2030 C   0  0  0  0  0  0  0  0  0  0  0  0\\n   13.3480   29.1490  -15.4890 C   0  0  1  0  0  0  0  0  0  0  0  0\\n   14.2910   28.7830  -14.4300 C   0  0  0  0  0  0  0  0  0  0  0  0\\n   13.9750   30.1540  -16.4820 C   0  0  1  0  0  0  0  0  0  0  0  0\\n   15.3090   29.6820  -17.0340 C   0  0  0  0  0  0  0  0  0  0  0  0\\n   12.4920   29.2350  -18.2950 C   0  0  0  0  0  0  0  0  0  0  0  0\\n   12.9850   30.4240  -17.5610 N   0  0  0  0  0  0  0  0  0  0  0  0\\n   12.0730   31.7670  -17.6070 S   0  0  0  0  0  0  0  0  0  0  0  0\\n   10.8080   31.3870  -18.1510 O   0  0  0  0  0  0  0  0  0  0  0  0\\n   12.8420   32.7610  -18.2840 O   0  0  0  0  0  0  0  0  0  0  0  0\\n   11.8180   32.2940  -15.9550 C   0  0  0  0  0  0  0  0  0  0  0  0\\n  3  2  2  0\\n  4  3  1  0\\n  5  4  2  0\\n  5  1  1  0\\n  6  1  1  0\\n  8  7  1  0\\n  8  5  1  0\\n  9  8  2  0\\n  9  2  1  0\\n 10  6  1  0\\n 11 10  1  0\\n 12  6  2  0\\n 13  9  1  0\\n 16 15  1  0\\n 17 16  1  0\\n 17 18  1  6\\n 18 14  3  0\\n 19 17  1  0\\n 19 20  1  6\\n 21 15  1  0\\n 22 19  1  0\\n 22 21  1  0\\n 23 22  1  0\\n 24 23  2  0\\n 25 23  2  0\\n 23 26  1  0\\n 29 28  1  0\\n 30 29  1  0\\n 30 31  1  1\\n 31 27  1  0\\n 32 30  1  0\\n 32 33  1  1\\n 34 28  1  0\\n 35 34  1  0\\n 35 32  1  0\\n 36 35  1  0\\n 37 36  1  0\\n 38 36  1  0\\n 36 39  1  0\\n 42 41  1  0\\n 43 42  1  0\\n 43 44  1  1\\n 44 40  1  0\\n 45 43  1  0\\n 45 46  1  6\\n 47 41  1  0\\n 48 47  1  0\\n 48 45  1  0\\n 49 48  1  0\\n 50 49  1  0\\n 51 49  1  0\\n 49 52  1  0\\nM  END\\n\",\"mol\");\n",
       "\tviewer_1719361649861941.setStyle({\"stick\": {}});\n",
       "\tviewer_1719361649861941.zoomTo();\n",
       "viewer_1719361649861941.render();\n",
       "});\n",
       "</script>"
      ]
     },
     "metadata": {},
     "output_type": "display_data"
    },
    {
     "data": {
      "text/plain": [
       "<py3Dmol.view at 0x30c669450>"
      ]
     },
     "execution_count": 22,
     "metadata": {},
     "output_type": "execute_result"
    }
   ],
   "source": [
    "bin_val = 5\n",
    "s = vol_df.query(\"bin == @bin_val\",engine='python').sample(1)\n",
    "i,j = s.i.values[0],s.j.values[0]\n",
    "mol_i = df.ROMol.values[i]\n",
    "mol_j = df.ROMol.values[j]\n",
    "mol_ij = Chem.CombineMols(mol_i,mol_j)\n",
    "MolTo3DView(mol_ij)"
   ]
  },
  {
   "cell_type": "code",
   "execution_count": 21,
   "id": "54a1440d",
   "metadata": {},
   "outputs": [],
   "source": [
    "PandasTools.WriteSDF(vol_df.query(\"bin >= 4\",engine='python'),\"pairs_4_5.sdf\",properties=vol_df.columns[1:])"
   ]
  },
  {
   "cell_type": "code",
   "execution_count": null,
   "id": "39cba45d",
   "metadata": {},
   "outputs": [],
   "source": []
  }
 ],
 "metadata": {
  "kernelspec": {
   "display_name": "Python 3 (ipykernel)",
   "language": "python",
   "name": "python3"
  },
  "language_info": {
   "codemirror_mode": {
    "name": "ipython",
    "version": 3
   },
   "file_extension": ".py",
   "mimetype": "text/x-python",
   "name": "python",
   "nbconvert_exporter": "python",
   "pygments_lexer": "ipython3",
   "version": "3.11.3"
  }
 },
 "nbformat": 4,
 "nbformat_minor": 5
}
