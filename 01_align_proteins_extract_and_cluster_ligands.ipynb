{
 "cells": [
  {
   "cell_type": "code",
   "execution_count": 1,
   "id": "6aa6ee4d",
   "metadata": {},
   "outputs": [],
   "source": [
    "from rdkit import Chem\n",
    "from rdkit.Chem import AllChem\n",
    "from rdkit.Chem import PandasTools\n",
    "import pandas as pd\n",
    "from prody import *\n",
    "from tqdm.auto import tqdm\n",
    "from io import StringIO\n",
    "from operator import itemgetter\n",
    "from rdkit import RDLogger \n",
    "import numpy as np\n",
    "from rdkit.Chem.rdMolTransforms import ComputeCentroid\n",
    "from minisom import MiniSom \n",
    "import seaborn as sns\n",
    "from glob import glob\n",
    "import os\n",
    "import useful_rdkit_utils as uru"
   ]
  },
  {
   "cell_type": "markdown",
   "id": "94e94fea",
   "metadata": {},
   "source": [
    "## 1. Setup"
   ]
  },
  {
   "cell_type": "markdown",
   "id": "3a8a6f3c",
   "metadata": {},
   "source": [
    "Enable Pandas progress_apply"
   ]
  },
  {
   "cell_type": "code",
   "execution_count": 2,
   "id": "5082da35",
   "metadata": {},
   "outputs": [],
   "source": [
    "tqdm.pandas()"
   ]
  },
  {
   "cell_type": "markdown",
   "id": "90db898c",
   "metadata": {},
   "source": [
    "A few utility functions to make life easier"
   ]
  },
  {
   "cell_type": "code",
   "execution_count": 3,
   "id": "cda4da6a",
   "metadata": {},
   "outputs": [],
   "source": [
    "def prody_ligand_bond_order(protein, res_name, res_smiles):\n",
    "    \"\"\"\n",
    "    Extract the ligand with the specified residue name from a Prody molecule and assign bond orders\n",
    "    :param protein: Prody protein\n",
    "    :param res_name: residue with the ligand\n",
    "    :param res_smiles: SMILES for the ligand, used for bond order assignment\n",
    "    :return: RDKit molecule with bond orders assigned\n",
    "    \"\"\"\n",
    "    output = StringIO()\n",
    "    sub_mol = protein.select(f\"resname {res_name}\")\n",
    "    template = AllChem.MolFromSmiles(res_smiles)\n",
    "    template = uru.get_largest_fragment(template)\n",
    "    writePDBStream(output, sub_mol)\n",
    "    pdb_string = output.getvalue()\n",
    "    rd_mol = AllChem.MolFromPDBBlock(pdb_string)\n",
    "    RDLogger.DisableLog('rdApp.warning')  \n",
    "    new_mol = AllChem.AssignBondOrdersFromTemplate(template, rd_mol)\n",
    "    RDLogger.EnableLog('rdApp.warning')  \n",
    "    return new_mol\n",
    "\n",
    "def align_pdbs(mobile, fixed):\n",
    "    \"\"\"\n",
    "    Use Prody to align two molecules\n",
    "    :param mobile: Prody molecule to be aligned\n",
    "    :param fixed: Prody molecule to use as a reference for alignment\n",
    "    :return: aligned mobile molecule as a Prody molecule\n",
    "    \"\"\"\n",
    "    mobile_out,_,_,_,_ = prody.matchAlign(mobile, fixed)\n",
    "    return mobile_out \n",
    "\n"
   ]
  },
  {
   "cell_type": "markdown",
   "id": "484379bb",
   "metadata": {},
   "source": [
    "## 2. Reading and Processing Data From the PDB\n",
    "### 2.1 Read the Input Data\n",
    "Read the spreadsheet with info on the fragments"
   ]
  },
  {
   "cell_type": "code",
   "execution_count": 4,
   "id": "c8595541",
   "metadata": {},
   "outputs": [],
   "source": [
    "df = pd.read_excel(\"https://raw.githubusercontent.com/PatWalters/datafiles/main/20211124_mac1_pdb_lig.xlsx\")"
   ]
  },
  {
   "cell_type": "markdown",
   "id": "b5cdaf03",
   "metadata": {},
   "source": [
    "Make Prody less chatty"
   ]
  },
  {
   "cell_type": "code",
   "execution_count": 5,
   "id": "5a98c728",
   "metadata": {},
   "outputs": [],
   "source": [
    "prody.confProDy(verbosity='warning')"
   ]
  },
  {
   "cell_type": "markdown",
   "id": "90f1c080",
   "metadata": {},
   "source": [
    "Set up a reference protein to align the other proteins to"
   ]
  },
  {
   "cell_type": "code",
   "execution_count": 6,
   "id": "7980f0c6",
   "metadata": {},
   "outputs": [],
   "source": [
    "ref_prot = prody.parsePDB('5RS7')\n",
    "ref_prot = ref_prot.select(\"protein and chain A\")"
   ]
  },
  {
   "cell_type": "markdown",
   "id": "ef9a2eea",
   "metadata": {},
   "source": [
    "### 2.2 Extract Ligands and Assign Bond Orders\n",
    "1. Align each protein to the reference\n",
    "2. Extract the ligand and assign bond orders\n",
    "3. Build up a list of ligands"
   ]
  },
  {
   "cell_type": "code",
   "execution_count": 7,
   "id": "0d7e80a0",
   "metadata": {
    "scrolled": false
   },
   "outputs": [
    {
     "data": {
      "application/vnd.jupyter.widget-view+json": {
       "model_id": "2b80c85c5d1f42c998d756aa103e4891",
       "version_major": 2,
       "version_minor": 0
      },
      "text/plain": [
       "  0%|          | 0/235 [00:00<?, ?it/s]"
      ]
     },
     "metadata": {},
     "output_type": "display_data"
    },
    {
     "name": "stderr",
     "output_type": "stream",
     "text": [
      "@> WARNING no one-letter mapping found for <Residue: WOY 201 from Chain A from 5S18 (9 atoms)> \n",
      "@> WARNING no one-letter mapping found for <Residue: DMS 202 from Chain A from 5S18 (4 atoms)> \n",
      "@> WARNING no one-letter mapping found for <Residue: WPS 201 from Chain A from 5S1A (9 atoms)> \n",
      "@> WARNING no one-letter mapping found for <Residue: WPV 201 from Chain A from 5S1C (9 atoms)> \n",
      "@> WARNING no one-letter mapping found for <Residue: DMS 202 from Chain A from 5S1C (4 atoms)> \n",
      "@> WARNING no one-letter mapping found for <Residue: WPY 201 from Chain A from 5S1E (9 atoms)> \n",
      "@> WARNING no one-letter mapping found for <Residue: DMS 202 from Chain A from 5S1E (4 atoms)> \n",
      "@> WARNING no one-letter mapping found for <Residue: WQ1 201 from Chain A from 5S1G (9 atoms)> \n",
      "@> WARNING no one-letter mapping found for <Residue: WQ4 201 from Chain A from 5S1I (9 atoms)> \n",
      "@> WARNING no one-letter mapping found for <Residue: DMS 202 from Chain A from 5S1I (4 atoms)> \n",
      "@> WARNING no one-letter mapping found for <Residue: WQ7 201 from Chain A from 5S1K (10 atoms)> \n",
      "@> WARNING no one-letter mapping found for <Residue: DE5 201 from Chain A from 5S1M (10 atoms)> \n",
      "@> WARNING no one-letter mapping found for <Residue: WQA 201 from Chain A from 5S1O (10 atoms)> \n",
      "@> WARNING no one-letter mapping found for <Residue: DMS 202 from Chain A from 5S1O (4 atoms)> \n",
      "@> WARNING no one-letter mapping found for <Residue: WQG 201 from Chain A from 5S1Q (11 atoms)> \n",
      "@> WARNING no one-letter mapping found for <Residue: WQJ 201 from Chain A from 5S1S (11 atoms)> \n",
      "@> WARNING no one-letter mapping found for <Residue: WQM 201 from Chain A from 5S1U (11 atoms)> \n",
      "@> WARNING no one-letter mapping found for <Residue: DMS 202 from Chain A from 5S1U (4 atoms)> \n",
      "@> WARNING no one-letter mapping found for <Residue: WQV 201 from Chain A from 5S1W (12 atoms)> \n",
      "@> WARNING no one-letter mapping found for <Residue: WQY 201 from Chain A from 5S1Y (12 atoms)> \n",
      "@> WARNING no one-letter mapping found for <Residue: WRD 201 from Chain A from 5S20 (12 atoms)> \n",
      "@> WARNING no one-letter mapping found for <Residue: WRJ 201 from Chain A from 5S22 (13 atoms)> \n",
      "@> WARNING no one-letter mapping found for <Residue: WRM 201 from Chain A from 5S24 (14 atoms)> \n",
      "@> WARNING no one-letter mapping found for <Residue: L46 201 from Chain A from 5S26 (15 atoms)> \n",
      "@> WARNING no one-letter mapping found for <Residue: WSM 201 from Chain B from 5S27 (15 atoms)> \n",
      "@> WARNING no one-letter mapping found for <Residue: WRV 201 from Chain A from 5S28 (16 atoms)> \n",
      "@> WARNING no one-letter mapping found for <Residue: WRY 201 from Chain A from 5S29 (16 atoms)> \n",
      "@> WARNING no one-letter mapping found for <Residue: WS4 201 from Chain A from 5S2A (16 atoms)> \n",
      "@> WARNING no one-letter mapping found for <Residue: WSG 201 from Chain A from 5S2B (17 atoms)> \n",
      "@> WARNING no one-letter mapping found for <Residue: WSJ 201 from Chain A from 5S2C (19 atoms)> \n",
      "@> WARNING no one-letter mapping found for <Residue: U0P 601 from Chain B from 5S2D (15 atoms)> \n",
      "@> WARNING no one-letter mapping found for <Residue: VZM 401 from Chain A from 5S2E (17 atoms)> \n",
      "@> WARNING no one-letter mapping found for <Residue: K0G 501 from Chain A from 5S2F (16 atoms)> \n",
      "@> WARNING no one-letter mapping found for <Residue: K0G 502 from Chain A from 5S2F (16 atoms)> \n",
      "@> WARNING no one-letter mapping found for <Residue: JHJ 501 from Chain A from 5S2G (18 atoms)> \n",
      "@> WARNING no one-letter mapping found for <Residue: VWV 601 from Chain B from 5S2H (14 atoms)> \n",
      "@> WARNING no one-letter mapping found for <Residue: LUY 601 from Chain B from 5S2I (18 atoms)> \n",
      "@> WARNING no one-letter mapping found for <Residue: JGG 601 from Chain B from 5S2J (18 atoms)> \n",
      "@> WARNING no one-letter mapping found for <Residue: VZP 501 from Chain A from 5S2K (15 atoms)> \n",
      "@> WARNING no one-letter mapping found for <Residue: VZS 501 from Chain A from 5S2L (18 atoms)> \n",
      "@> WARNING no one-letter mapping found for <Residue: VZY 501 from Chain A from 5S2M (14 atoms)> \n",
      "@> WARNING no one-letter mapping found for <Residue: GWY 501 from Chain A from 5S2N (15 atoms)> \n",
      "@> WARNING no one-letter mapping found for <Residue: NXS 401 from Chain A from 5S2O (14 atoms)> \n",
      "@> WARNING no one-letter mapping found for <Residue: W04 401 from Chain A from 5S2P (13 atoms)> \n",
      "@> WARNING no one-letter mapping found for <Residue: W0A 501 from Chain A from 5S2Q (16 atoms)> \n",
      "@> WARNING no one-letter mapping found for <Residue: K41 601 from Chain A from 5S2R (12 atoms)> \n",
      "@> WARNING no one-letter mapping found for <Residue: GWV 501 from Chain A from 5S2S (14 atoms)> \n",
      "@> WARNING no one-letter mapping found for <Residue: W0D 401 from Chain A from 5S2T (18 atoms)> \n",
      "@> WARNING no one-letter mapping found for <Residue: VXD 601 from Chain B from 5S2U (13 atoms)> \n",
      "@> WARNING no one-letter mapping found for <Residue: W0G 601 from Chain B from 5S2V (15 atoms)> \n",
      "@> WARNING no one-letter mapping found for <Residue: GWP 401 from Chain A from 5S2W (11 atoms)> \n",
      "@> WARNING no one-letter mapping found for <Residue: CL 402 from Chain A from 5S2W (1 atoms)> \n",
      "@> WARNING no one-letter mapping found for <Residue: W0J 601 from Chain B from 5S2X (14 atoms)> \n",
      "@> WARNING no one-letter mapping found for <Residue: W0M 601 from Chain B from 5S2Y (13 atoms)> \n",
      "@> WARNING no one-letter mapping found for <Residue: T6J 401 from Chain A from 5S2Z (14 atoms)> \n",
      "@> WARNING no one-letter mapping found for <Residue: W0P 501 from Chain A from 5S30 (13 atoms)> \n",
      "@> WARNING no one-letter mapping found for <Residue: W0S 601 from Chain B from 5S31 (14 atoms)> \n",
      "@> WARNING no one-letter mapping found for <Residue: W0V 401 from Chain A from 5S32 (16 atoms)> \n",
      "@> WARNING no one-letter mapping found for <Residue: K2G 501 from Chain A from 5S33 (13 atoms)> \n",
      "@> WARNING no one-letter mapping found for <Residue: GOV 501 from Chain A from 5S34 (15 atoms)> \n",
      "@> WARNING no one-letter mapping found for <Residue: DMS 502 from Chain A from 5S34 (4 atoms)> \n",
      "@> WARNING no one-letter mapping found for <Residue: B1A 501 from Chain A from 5S35 (17 atoms)> \n",
      "@> WARNING no one-letter mapping found for <Residue: 7ZC 501 from Chain A from 5S36 (15 atoms)> \n",
      "@> WARNING no one-letter mapping found for <Residue: NZ1 401 from Chain A from 5S37 (12 atoms)> \n",
      "@> WARNING no one-letter mapping found for <Residue: S7J 401 from Chain A from 5S38 (13 atoms)> \n",
      "@> WARNING no one-letter mapping found for <Residue: W0Y 401 from Chain A from 5S39 (14 atoms)> \n",
      "@> WARNING no one-letter mapping found for <Residue: DMS 402 from Chain A from 5S39 (4 atoms)> \n",
      "@> WARNING no one-letter mapping found for <Residue: W17 401 from Chain A from 5S3A (11 atoms)> \n",
      "@> WARNING no one-letter mapping found for <Residue: DMS 402 from Chain A from 5S3A (4 atoms)> \n",
      "@> WARNING no one-letter mapping found for <Residue: W1A 501 from Chain A from 5S3B (12 atoms)> \n",
      "@> WARNING no one-letter mapping found for <Residue: W1D 501 from Chain A from 5S3C (14 atoms)> \n",
      "@> WARNING no one-letter mapping found for <Residue: DMS 502 from Chain A from 5S3C (4 atoms)> \n",
      "@> WARNING no one-letter mapping found for <Residue: DMS 503 from Chain A from 5S3C (4 atoms)> \n",
      "@> WARNING no one-letter mapping found for <Residue: JFP 401 from Chain A from 5S3D (11 atoms)> \n",
      "@> WARNING no one-letter mapping found for <Residue: DMS 402 from Chain A from 5S3D (4 atoms)> \n",
      "@> WARNING no one-letter mapping found for <Residue: DMS 403 from Chain A from 5S3D (4 atoms)> \n",
      "@> WARNING no one-letter mapping found for <Residue: WSY 501 from Chain A from 5S3E (12 atoms)> \n",
      "@> WARNING no one-letter mapping found for <Residue: DMS 502 from Chain A from 5S3E (4 atoms)> \n",
      "@> WARNING no one-letter mapping found for <Residue: W1J 501 from Chain A from 5S3F (16 atoms)> \n",
      "@> WARNING no one-letter mapping found for <Residue: DMS 502 from Chain A from 5S3F (4 atoms)> \n",
      "@> WARNING no one-letter mapping found for <Residue: JHS 601 from Chain A from 5S3G (17 atoms)> \n",
      "@> WARNING no one-letter mapping found for <Residue: W1M 501 from Chain A from 5S3H (18 atoms)> \n",
      "@> WARNING no one-letter mapping found for <Residue: W1P 601 from Chain B from 5S3I (13 atoms)> \n",
      "@> WARNING no one-letter mapping found for <Residue: W1S 401 from Chain A from 5S3J (12 atoms)> \n",
      "@> WARNING no one-letter mapping found for <Residue: RZS 501 from Chain A from 5S3K (11 atoms)> \n"
     ]
    },
    {
     "name": "stderr",
     "output_type": "stream",
     "text": [
      "@> WARNING no one-letter mapping found for <Residue: NHE 502 from Chain A from 5S3K (13 atoms)> \n",
      "@> WARNING no one-letter mapping found for <Residue: JH4 401 from Chain A from 5S3L (8 atoms)> \n",
      "@> WARNING no one-letter mapping found for <Residue: S2S 401 from Chain A from 5S3M (14 atoms)> \n",
      "@> WARNING no one-letter mapping found for <Residue: W1V 401 from Chain A from 5S3N (12 atoms)> \n",
      "@> WARNING no one-letter mapping found for <Residue: W1Y 401 from Chain A from 5S3O (14 atoms)> \n",
      "@> WARNING no one-letter mapping found for <Residue: W21 501 from Chain A from 5S3P (13 atoms)> \n",
      "@> WARNING no one-letter mapping found for <Residue: W2A 501 from Chain A from 5S3Q (13 atoms)> \n",
      "@> WARNING no one-letter mapping found for <Residue: W24 201 from Chain B from 5S3R (15 atoms)> \n",
      "@> WARNING no one-letter mapping found for <Residue: W27 401 from Chain A from 5S3S (15 atoms)> \n",
      "@> WARNING no one-letter mapping found for <Residue: W2G 401 from Chain A from 5S3T (13 atoms)> \n",
      "@> WARNING no one-letter mapping found for <Residue: DMS 402 from Chain A from 5S3T (4 atoms)> \n",
      "@> WARNING no one-letter mapping found for <Residue: W2J 501 from Chain A from 5S3U (9 atoms)> \n",
      "@> WARNING no one-letter mapping found for <Residue: W2M 601 from Chain B from 5S3V (15 atoms)> \n",
      "@> WARNING no one-letter mapping found for <Residue: W2S 601 from Chain B from 5S3W (15 atoms)> \n",
      "@> WARNING no one-letter mapping found for <Residue: W2V 401 from Chain A from 5S3X (17 atoms)> \n",
      "@> WARNING no one-letter mapping found for <Residue: W2Y 601 from Chain B from 5S3Y (14 atoms)> \n",
      "@> WARNING no one-letter mapping found for <Residue: W34 501 from Chain A from 5S3Z (15 atoms)> \n",
      "@> WARNING no one-letter mapping found for <Residue: HHQ 401 from Chain A from 5S40 (8 atoms)> \n",
      "@> WARNING no one-letter mapping found for <Residue: HGQ 401 from Chain A from 5S41 (8 atoms)> \n",
      "@> WARNING no one-letter mapping found for <Residue: HH8 401 from Chain A from 5S42 (11 atoms)> \n",
      "@> WARNING no one-letter mapping found for <Residue: DMS 402 from Chain A from 5S42 (4 atoms)> \n",
      "@> WARNING no one-letter mapping found for <Residue: UUJ 601 from Chain B from 5S43 (10 atoms)> \n",
      "@> WARNING no one-letter mapping found for <Residue: W3A 501 from Chain A from 5S44 (10 atoms)> \n",
      "@> WARNING no one-letter mapping found for <Residue: W3D 501 from Chain A from 5S45 (12 atoms)> \n",
      "@> WARNING no one-letter mapping found for <Residue: HYN 401 from Chain A from 5S46 (7 atoms)> \n",
      "@> WARNING no one-letter mapping found for <Residue: BAQ 401 from Chain A from 5S47 (6 atoms)> \n",
      "@> WARNING no one-letter mapping found for <Residue: BAQ 402 from Chain A from 5S47 (6 atoms)> \n",
      "@> WARNING no one-letter mapping found for <Residue: HRZ 401 from Chain A from 5S48 (7 atoms)> \n",
      "@> WARNING no one-letter mapping found for <Residue: DMS 402 from Chain A from 5S48 (4 atoms)> \n",
      "@> WARNING no one-letter mapping found for <Residue: 3TR 401 from Chain A from 5S49 (6 atoms)> \n",
      "@> WARNING no one-letter mapping found for <Residue: 3TR 402 from Chain A from 5S49 (6 atoms)> \n",
      "@> WARNING no one-letter mapping found for <Residue: DMS 403 from Chain A from 5S49 (4 atoms)> \n",
      "@> WARNING no one-letter mapping found for <Residue: 4AP 201 from Chain A from 5S4A (7 atoms)> \n",
      "@> WARNING no one-letter mapping found for <Residue: W3G 401 from Chain A from 5S4B (7 atoms)> \n",
      "@> WARNING no one-letter mapping found for <Residue: DMS 402 from Chain A from 5S4B (4 atoms)> \n",
      "@> WARNING no one-letter mapping found for <Residue: W3J 501 from Chain A from 5S4C (7 atoms)> \n",
      "@> WARNING no one-letter mapping found for <Residue: W3J 502 from Chain A from 5S4C (7 atoms)> \n",
      "@> WARNING no one-letter mapping found for <Residue: W3J 503 from Chain A from 5S4C (7 atoms)> \n",
      "@> WARNING no one-letter mapping found for <Residue: DMS 504 from Chain A from 5S4C (4 atoms)> \n",
      "@> WARNING no one-letter mapping found for <Residue: DMS 505 from Chain A from 5S4C (4 atoms)> \n",
      "@> WARNING no one-letter mapping found for <Residue: 2OP 501 from Chain A from 5S4D (6 atoms)> \n",
      "@> WARNING no one-letter mapping found for <Residue: DMS 503 from Chain A from 5S4D (10 atoms)> \n",
      "@> WARNING no one-letter mapping found for <Residue: DMS 901 from Chain A from 5S4E (4 atoms)> \n",
      "@> WARNING no one-letter mapping found for <Residue: W3M 902 from Chain A from 5S4E (7 atoms)> \n",
      "@> WARNING no one-letter mapping found for <Residue: W3M 903 from Chain A from 5S4E (7 atoms)> \n",
      "@> WARNING no one-letter mapping found for <Residue: W3P 401 from Chain A from 5S4F (10 atoms)> \n",
      "@> WARNING no one-letter mapping found for <Residue: SO4 402 from Chain A from 5S4F (5 atoms)> \n",
      "@> WARNING no one-letter mapping found for <Residue: W3S 401 from Chain A from 5S4G (10 atoms)> \n",
      "@> WARNING no one-letter mapping found for <Residue: SO4 402 from Chain A from 5S4G (5 atoms)> \n",
      "@> WARNING no one-letter mapping found for <Residue: W3V 501 from Chain A from 5S4H (12 atoms)> \n",
      "@> WARNING no one-letter mapping found for <Residue: W3Y 501 from Chain A from 5S4I (15 atoms)> \n",
      "@> WARNING no one-letter mapping found for <Residue: W41 401 from Chain A from 5S4J (10 atoms)> \n",
      "@> WARNING no one-letter mapping found for <Residue: W44 601 from Chain B from 5S4K (18 atoms)> \n",
      "@> WARNING no one-letter mapping found for <Residue: 4JQ 201 from Chain A from 5RVJ (19 atoms)> \n",
      "@> WARNING no one-letter mapping found for <Residue: 2AK 201 from Chain A from 5RVK (19 atoms)> \n",
      "@> WARNING no one-letter mapping found for <Residue: BVF 201 from Chain A from 5RVL (16 atoms)> \n",
      "@> WARNING no one-letter mapping found for <Residue: HBD 201 from Chain A from 5RVM (17 atoms)> \n",
      "@> WARNING no one-letter mapping found for <Residue: ANN 201 from Chain A from 5RVN (18 atoms)> \n",
      "@> WARNING no one-letter mapping found for <Residue: AQO 201 from Chain A from 5RVO (19 atoms)> \n",
      "@> WARNING no one-letter mapping found for <Residue: 1SQ 201 from Chain A from 5RVP (19 atoms)> \n",
      "@> WARNING no one-letter mapping found for <Residue: 4BY 201 from Chain A from 5RVQ (21 atoms)> \n",
      "@> WARNING no one-letter mapping found for <Residue: LZ1 201 from Chain A from 5RVR (15 atoms)> \n",
      "@> WARNING no one-letter mapping found for <Residue: 0LO 201 from Chain A from 5RVS (23 atoms)> \n",
      "@> WARNING no one-letter mapping found for <Residue: 4BL 201 from Chain A from 5RVT (21 atoms)> \n",
      "@> WARNING no one-letter mapping found for <Residue: 6P3 201 from Chain A from 5RVU (23 atoms)> \n",
      "@> WARNING no one-letter mapping found for <Residue: WB1 201 from Chain A from 5RVV (21 atoms)> \n",
      "@> WARNING no one-letter mapping found for <Residue: W4Y 201 from Chain A from 5RS7 (32 atoms)> \n",
      "@> WARNING no one-letter mapping found for <Residue: H35 201 from Chain A from 5RS8 (25 atoms)> \n",
      "@> WARNING no one-letter mapping found for <Residue: W4V 201 from Chain A from 5RS9 (22 atoms)> \n",
      "@> WARNING no one-letter mapping found for <Residue: W4S 201 from Chain A from 5RSB (19 atoms)> \n",
      "@> WARNING no one-letter mapping found for <Residue: W5S 201 from Chain A from 5RSC (32 atoms)> \n",
      "@> WARNING no one-letter mapping found for <Residue: 1LQ 201 from Chain A from 5RSD (18 atoms)> \n",
      "@> WARNING no one-letter mapping found for <Residue: W5P 201 from Chain A from 5RSE (29 atoms)> \n",
      "@> WARNING no one-letter mapping found for <Residue: W5M 201 from Chain A from 5RSF (20 atoms)> \n",
      "@> WARNING no one-letter mapping found for <Residue: W5J 201 from Chain A from 5RSG (27 atoms)> \n",
      "@> WARNING no one-letter mapping found for <Residue: W5G 201 from Chain A from 5RSH (33 atoms)> \n",
      "@> WARNING no one-letter mapping found for <Residue: W5D 201 from Chain A from 5RSI (34 atoms)> \n",
      "@> WARNING no one-letter mapping found for <Residue: W5A 201 from Chain A from 5RSJ (27 atoms)> \n",
      "@> WARNING no one-letter mapping found for <Residue: W57 201 from Chain A from 5RSK (28 atoms)> \n",
      "@> WARNING no one-letter mapping found for <Residue: W51 201 from Chain A from 5RSL (31 atoms)> \n",
      "@> WARNING no one-letter mapping found for <Residue: 4SO 201 from Chain A from 5RSM (19 atoms)> \n",
      "@> WARNING no one-letter mapping found for <Residue: 51X 201 from Chain A from 5RSN (21 atoms)> \n",
      "@> WARNING no one-letter mapping found for <Residue: TYZ 201 from Chain A from 5RSO (21 atoms)> \n",
      "@> WARNING no one-letter mapping found for <Residue: LSA 201 from Chain A from 5RSP (17 atoms)> \n",
      "@> WARNING no one-letter mapping found for <Residue: MOK 201 from Chain A from 5RSQ (23 atoms)> \n"
     ]
    },
    {
     "name": "stderr",
     "output_type": "stream",
     "text": [
      "@> WARNING no one-letter mapping found for <Residue: XIY 201 from Chain A from 5RSR (19 atoms)> \n",
      "@> WARNING no one-letter mapping found for <Residue: 5HN 201 from Chain A from 5RST (14 atoms)> \n",
      "@> WARNING no one-letter mapping found for <Residue: OHB 201 from Chain A from 5RSU (17 atoms)> \n",
      "@> WARNING no one-letter mapping found for <Residue: 4MB 201 from Chain A from 5RSV (22 atoms)> \n",
      "@> WARNING no one-letter mapping found for <Residue: 6FZ 201 from Chain A from 5RSW (21 atoms)> \n",
      "@> WARNING no one-letter mapping found for <Residue: YTX 201 from Chain A from 5RSX (22 atoms)> \n",
      "@> WARNING no one-letter mapping found for <Residue: DMS 202 from Chain A from 5RSX (10 atoms)> \n",
      "@> WARNING no one-letter mapping found for <Residue: 3R6 201 from Chain A from 5RSY (19 atoms)> \n",
      "@> WARNING no one-letter mapping found for <Residue: ZZA 201 from Chain A from 5RSZ (21 atoms)> \n",
      "@> WARNING no one-letter mapping found for <Residue: 4BL 201 from Chain A from 5RT0 (21 atoms)> \n",
      "@> WARNING no one-letter mapping found for <Residue: 3A9 201 from Chain A from 5RT1 (19 atoms)> \n",
      "@> WARNING no one-letter mapping found for <Residue: 5OF 201 from Chain A from 5RT2 (22 atoms)> \n",
      "@> WARNING no one-letter mapping found for <Residue: 2FX 201 from Chain A from 5RT3 (20 atoms)> \n",
      "@> WARNING no one-letter mapping found for <Residue: 4BX 201 from Chain A from 5RT4 (23 atoms)> \n",
      "@> WARNING no one-letter mapping found for <Residue: 07L 201 from Chain A from 5RT5 (18 atoms)> \n",
      "@> WARNING no one-letter mapping found for <Residue: 05R 201 from Chain A from 5RT6 (17 atoms)> \n",
      "@> WARNING no one-letter mapping found for <Residue: DMS 202 from Chain A from 5RT6 (10 atoms)> \n",
      "@> WARNING no one-letter mapping found for <Residue: GVH 201 from Chain A from 5RT7 (15 atoms)> \n",
      "@> WARNING no one-letter mapping found for <Residue: HLR 201 from Chain A from 5RT8 (16 atoms)> \n",
      "@> WARNING no one-letter mapping found for <Residue: 54G 201 from Chain A from 5RT9 (18 atoms)> \n",
      "@> WARNING no one-letter mapping found for <Residue: DMS 202 from Chain A from 5RT9 (10 atoms)> \n",
      "@> WARNING no one-letter mapping found for <Residue: Q6T 201 from Chain A from 5RTA (17 atoms)> \n",
      "@> WARNING no one-letter mapping found for <Residue: EVE 201 from Chain A from 5RTC (20 atoms)> \n",
      "@> WARNING no one-letter mapping found for <Residue: MHW 201 from Chain A from 5RTD (14 atoms)> \n",
      "@> WARNING no one-letter mapping found for <Residue: 4FL 201 from Chain A from 5RTE (18 atoms)> \n",
      "@> WARNING no one-letter mapping found for <Residue: ISN 201 from Chain B from 5RTF (16 atoms)> \n",
      "@> WARNING no one-letter mapping found for <Residue: 3HP 201 from Chain A from 5RTG (18 atoms)> \n",
      "@> WARNING no one-letter mapping found for <Residue: 3BZ 201 from Chain A from 5RTH (14 atoms)> \n",
      "@> WARNING no one-letter mapping found for <Residue: 6U6 201 from Chain A from 5RTI (22 atoms)> \n",
      "@> WARNING no one-letter mapping found for <Residue: PHB 201 from Chain A from 5RTJ (15 atoms)> \n",
      "@> WARNING no one-letter mapping found for <Residue: BZX 201 from Chain A from 5RTK (16 atoms)> \n",
      "@> WARNING no one-letter mapping found for <Residue: 4J8 201 from Chain A from 5RTL (20 atoms)> \n",
      "@> WARNING no one-letter mapping found for <Residue: PZA 201 from Chain A from 5RTM (14 atoms)> \n",
      "@> WARNING no one-letter mapping found for <Residue: AQO 201 from Chain A from 5RTN (19 atoms)> \n",
      "@> WARNING no one-letter mapping found for <Residue: 4PN 201 from Chain B from 5RTO (32 atoms)> \n",
      "@> WARNING no one-letter mapping found for <Residue: AOT 201 from Chain A from 5RTP (18 atoms)> \n",
      "@> WARNING no one-letter mapping found for <Residue: 4JO 201 from Chain A from 5RTQ (16 atoms)> \n",
      "@> WARNING no one-letter mapping found for <Residue: SHA 201 from Chain A from 5RTR (18 atoms)> \n",
      "@> WARNING no one-letter mapping found for <Residue: 0LO 201 from Chain A from 5RTS (23 atoms)> \n",
      "@> WARNING no one-letter mapping found for <Residue: NMI 201 from Chain A from 5RTT (27 atoms)> \n",
      "@> WARNING no one-letter mapping found for <Residue: 1FF 201 from Chain A from 5RTU (24 atoms)> \n",
      "@> WARNING no one-letter mapping found for <Residue: PF0 201 from Chain A from 5RTV (18 atoms)> \n",
      "@> WARNING no one-letter mapping found for <Residue: DMS 202 from Chain A from 5RTV (10 atoms)> \n",
      "@> WARNING no one-letter mapping found for <Residue: OHP 201 from Chain A from 5RTW (18 atoms)> \n",
      "@> WARNING no one-letter mapping found for <Residue: 6OT 201 from Chain A from 5RTX (17 atoms)> \n",
      "@> WARNING no one-letter mapping found for <Residue: HBD 201 from Chain A from 5RTY (17 atoms)> \n",
      "@> WARNING no one-letter mapping found for <Residue: FHB 201 from Chain A from 5RTZ (15 atoms)> \n",
      "@> WARNING no one-letter mapping found for <Residue: 2CL 201 from Chain A from 5RU0 (17 atoms)> \n",
      "@> WARNING no one-letter mapping found for <Residue: DFA 201 from Chain A from 5RU1 (27 atoms)> \n",
      "@> WARNING no one-letter mapping found for <Residue: 06Y 201 from Chain A from 5RU2 (18 atoms)> \n",
      "@> WARNING no one-letter mapping found for <Residue: 8H8 201 from Chain B from 5RU3 (14 atoms)> \n",
      "@> WARNING no one-letter mapping found for <Residue: 6V9 201 from Chain A from 5RU4 (13 atoms)> \n",
      "@> WARNING no one-letter mapping found for <Residue: BXW 201 from Chain A from 5RU5 (20 atoms)> \n",
      "@> WARNING no one-letter mapping found for <Residue: 2UP 201 from Chain B from 5RU6 (23 atoms)> \n",
      "@> WARNING no one-letter mapping found for <Residue: PYD 201 from Chain A from 5RU7 (18 atoms)> \n",
      "@> WARNING no one-letter mapping found for <Residue: 1SQ 201 from Chain A from 5RU8 (19 atoms)> \n",
      "@> WARNING no one-letter mapping found for <Residue: 4SV 201 from Chain A from 5RU9 (15 atoms)> \n",
      "@> WARNING no one-letter mapping found for <Residue: 3EU 201 from Chain A from 5RUA (17 atoms)> \n",
      "@> WARNING no one-letter mapping found for <Residue: DMS 202 from Chain A from 5RUA (10 atoms)> \n",
      "@> WARNING no one-letter mapping found for <Residue: NCA 201 from Chain A from 5RUC (15 atoms)> \n",
      "@> WARNING no one-letter mapping found for <Residue: 2D0 201 from Chain A from 5RUD (16 atoms)> \n",
      "@> WARNING no one-letter mapping found for <Residue: BHA 201 from Chain A from 5RUE (17 atoms)> \n",
      "@> WARNING no one-letter mapping found for <Residue: 54T 201 from Chain A from 5RUF (16 atoms)> \n",
      "@> WARNING no one-letter mapping found for <Residue: NOA 201 from Chain A from 5RUG (24 atoms)> \n",
      "@> WARNING no one-letter mapping found for <Residue: KNL 201 from Chain A from 5RUH (18 atoms)> \n",
      "@> WARNING no one-letter mapping found for <Residue: 4YS 201 from Chain A from 5RUI (18 atoms)> \n",
      "@> WARNING no one-letter mapping found for <Residue: 2SX 201 from Chain A from 5RUJ (21 atoms)> \n",
      "@> WARNING no one-letter mapping found for <Residue: NVU 201 from Chain A from 5RUK (19 atoms)> \n",
      "@> WARNING no one-letter mapping found for <Residue: 5ZE 201 from Chain A from 5RUL (18 atoms)> \n",
      "@> WARNING no one-letter mapping found for <Residue: 52F 201 from Chain A from 5RUM (25 atoms)> \n",
      "@> WARNING no one-letter mapping found for <Residue: EXB 201 from Chain A from 5RUN (23 atoms)> \n",
      "@> WARNING no one-letter mapping found for <Residue: W6A 201 from Chain A from 5RUO (18 atoms)> \n",
      "@> WARNING no one-letter mapping found for <Residue: 04R 201 from Chain A from 5RUP (27 atoms)> \n",
      "@> WARNING no one-letter mapping found for <Residue: W6D 201 from Chain A from 5RUQ (20 atoms)> \n",
      "@> WARNING no one-letter mapping found for <Residue: FBB 201 from Chain A from 5RUR (16 atoms)> \n",
      "@> WARNING no one-letter mapping found for <Residue: APG 201 from Chain A from 5RUT (21 atoms)> \n",
      "@> WARNING no one-letter mapping found for <Residue: W6G 201 from Chain A from 5RUU (22 atoms)> \n",
      "@> WARNING no one-letter mapping found for <Residue: W6J 201 from Chain B from 5RUV (28 atoms)> \n",
      "@> WARNING no one-letter mapping found for <Residue: W6M 201 from Chain A from 5RUW (29 atoms)> \n",
      "@> WARNING no one-letter mapping found for <Residue: W6P 201 from Chain A from 5RUX (17 atoms)> \n",
      "@> WARNING no one-letter mapping found for <Residue: XAN 201 from Chain A from 5RUY (15 atoms)> \n",
      "@> WARNING no one-letter mapping found for <Residue: W6S 201 from Chain A from 5RUZ (24 atoms)> \n",
      "@> WARNING no one-letter mapping found for <Residue: W6V 201 from Chain A from 5RV0 (22 atoms)> \n",
      "@> WARNING no one-letter mapping found for <Residue: W7S 201 from Chain A from 5RV2 (27 atoms)> \n",
      "@> WARNING no one-letter mapping found for <Residue: MYI 201 from Chain A from 5RV3 (25 atoms)> \n"
     ]
    },
    {
     "name": "stderr",
     "output_type": "stream",
     "text": [
      "@> WARNING no one-letter mapping found for <Residue: 4FS 201 from Chain A from 5RV4 (19 atoms)> \n",
      "@> WARNING no one-letter mapping found for <Residue: JG8 201 from Chain A from 5RV5 (20 atoms)> \n",
      "@> WARNING no one-letter mapping found for <Residue: 0HN 201 from Chain A from 5RV6 (17 atoms)> \n",
      "@> WARNING no one-letter mapping found for <Residue: JNZ 201 from Chain A from 5RV7 (17 atoms)> \n",
      "@> WARNING no one-letter mapping found for <Residue: 8EJ 201 from Chain A from 5RV8 (18 atoms)> \n",
      "@> WARNING no one-letter mapping found for <Residue: EKZ 201 from Chain A from 5RV9 (25 atoms)> \n",
      "@> WARNING no one-letter mapping found for <Residue: HQD 201 from Chain A from 5RVA (22 atoms)> \n",
      "@> WARNING no one-letter mapping found for <Residue: 7PD 201 from Chain A from 5RVB (18 atoms)> \n",
      "@> WARNING no one-letter mapping found for <Residue: W7V 201 from Chain A from 5RVC (30 atoms)> \n",
      "@> WARNING no one-letter mapping found for <Residue: W7Y 201 from Chain A from 5RVD (36 atoms)> \n",
      "@> WARNING no one-letter mapping found for <Residue: W8A 201 from Chain A from 5RVE (26 atoms)> \n",
      "@> WARNING no one-letter mapping found for <Residue: W8D 201 from Chain A from 5RVF (29 atoms)> \n",
      "@> WARNING no one-letter mapping found for <Residue: W8J 201 from Chain A from 5RVG (35 atoms)> \n",
      "@> WARNING no one-letter mapping found for <Residue: W8J 202 from Chain A from 5RVG (35 atoms)> \n",
      "@> WARNING no one-letter mapping found for <Residue: Q3C 201 from Chain A from 5RVH (19 atoms)> \n",
      "@> WARNING no one-letter mapping found for <Residue: CLW 201 from Chain A from 5RVI (15 atoms)> \n",
      "@> WARNING no one-letter mapping found for <Residue: TFA 201 from Chain A from 5RV1 (7 atoms)> \n"
     ]
    }
   ],
   "source": [
    "rd_ligand_list = []\n",
    "for p,smi, res in tqdm(df[['PDB','SMILES','Ligand_RESID']].values):\n",
    "    prot = prody.parsePDB(p).select('not water')\n",
    "    # break if we can't get the PDB\n",
    "    if prot is None:\n",
    "        continue\n",
    "    # loop over chains and find the first one with the specified ligand\n",
    "    hv = prot.getHierView()\n",
    "    for chain in hv:\n",
    "        if chain.select(f\"resname {res}\"):\n",
    "            prot = chain\n",
    "            break  \n",
    "    # align to the reference\n",
    "    prot = align_pdbs(prot, ref_prot)\n",
    "    # save the aligned pdb\n",
    "    prody.writePDB(f\"{p}_aligned.pdb\",prot)\n",
    "    # get the ligand and assign bond orders\n",
    "    rd_lig_mol = prody_ligand_bond_order(prot,res,smi)\n",
    "    rd_lig_mol.SetProp(\"Name\",p)\n",
    "    rd_lig_mol.SetProp(\"_Name\",p)\n",
    "    rd_ligand_list.append(rd_lig_mol)"
   ]
  },
  {
   "cell_type": "markdown",
   "id": "1f440d95",
   "metadata": {},
   "source": [
    "Let's see how many ligands we ended up with"
   ]
  },
  {
   "cell_type": "code",
   "execution_count": 8,
   "id": "9e579c5c",
   "metadata": {},
   "outputs": [
    {
     "data": {
      "text/plain": [
       "235"
      ]
     },
     "execution_count": 8,
     "metadata": {},
     "output_type": "execute_result"
    }
   ],
   "source": [
    "len(rd_ligand_list)"
   ]
  },
  {
   "cell_type": "markdown",
   "id": "4b7fa706",
   "metadata": {},
   "source": [
    "Save the ligands to a file"
   ]
  },
  {
   "cell_type": "code",
   "execution_count": 9,
   "id": "f7e959bb",
   "metadata": {},
   "outputs": [],
   "source": [
    "writer = Chem.SDWriter(\"ligs_complete.sdf\")\n",
    "for mol in rd_ligand_list:\n",
    "    writer.write(mol)\n",
    "writer.close()"
   ]
  },
  {
   "cell_type": "markdown",
   "id": "472eb5ac",
   "metadata": {},
   "source": [
    "### 2.3 Handle Multiple Ligands\n",
    "Some of the pdb files have multiple copies of the same ligand bound in different pockets.  Separate these into individual ligands "
   ]
  },
  {
   "cell_type": "code",
   "execution_count": 11,
   "id": "e992b6c5",
   "metadata": {},
   "outputs": [
    {
     "name": "stdout",
     "output_type": "stream",
     "text": [
      "Read 235 molecules containing 242 fragments\n"
     ]
    }
   ],
   "source": [
    "frag_mol_list = []\n",
    "for idx,mol in enumerate(rd_ligand_list,1):\n",
    "    name = mol.GetProp(\"Name\")\n",
    "    frag_list = Chem.GetMolFrags(mol,asMols=True)\n",
    "    for frag_idx,frag in enumerate(frag_list):\n",
    "        frag.SetProp(\"Name\",name)\n",
    "        frag.SetProp(\"Sequence\",str(frag_idx))\n",
    "        frag.SetProp(\"_Name\",name)\n",
    "        frag_mol_list.append(frag)\n",
    "print(f\"Read {idx} molecules containing {len(frag_mol_list)} fragments\")"
   ]
  },
  {
   "cell_type": "markdown",
   "id": "6ecbc96a",
   "metadata": {},
   "source": [
    "Write the separated ligands to a file"
   ]
  },
  {
   "cell_type": "code",
   "execution_count": 12,
   "id": "b443f472",
   "metadata": {},
   "outputs": [],
   "source": [
    "writer = Chem.SDWriter(\"ligs_separated.sdf\")\n",
    "for mol in frag_mol_list:\n",
    "    writer.write(mol)\n",
    "writer.close()"
   ]
  },
  {
   "cell_type": "markdown",
   "id": "65ebc49c",
   "metadata": {},
   "source": [
    "## 3. Calculate the Center of Each Ligand\n",
    "Create a dataframe with the ligands"
   ]
  },
  {
   "cell_type": "code",
   "execution_count": 13,
   "id": "057d54ad",
   "metadata": {},
   "outputs": [],
   "source": [
    "lig_df = pd.DataFrame({'ROMol' : frag_mol_list, \n",
    "                       'Name': [x.GetProp(\"Name\") for x in frag_mol_list],\n",
    "                       'Sequence': [x.GetProp(\"Sequence\") for x in frag_mol_list]\n",
    "                      })"
   ]
  },
  {
   "cell_type": "markdown",
   "id": "c9d69528",
   "metadata": {},
   "source": [
    "Calculate the geometric center for each ligand"
   ]
  },
  {
   "cell_type": "code",
   "execution_count": 14,
   "id": "019032a0",
   "metadata": {},
   "outputs": [
    {
     "data": {
      "application/vnd.jupyter.widget-view+json": {
       "model_id": "b40abd8749a14190a2715f7a49a1bfcd",
       "version_major": 2,
       "version_minor": 0
      },
      "text/plain": [
       "  0%|          | 0/242 [00:00<?, ?it/s]"
      ]
     },
     "metadata": {},
     "output_type": "display_data"
    }
   ],
   "source": [
    "lig_df['center'] = lig_df.ROMol.progress_apply(uru.get_center)"
   ]
  },
  {
   "cell_type": "markdown",
   "id": "05a7f07f",
   "metadata": {},
   "source": [
    "Create a numpy array containing the ligand centers"
   ]
  },
  {
   "cell_type": "code",
   "execution_count": 15,
   "id": "f147fa69",
   "metadata": {},
   "outputs": [],
   "source": [
    "X = np.stack(lig_df.center)"
   ]
  },
  {
   "cell_type": "markdown",
   "id": "892a402c",
   "metadata": {},
   "source": [
    "## 4. Use a Self-Organizing Map (SOM) to Cluster the Ligands\n",
    "I've written blog posts [here](http://practicalcheminformatics.blogspot.com/2018/10/self-organizing-maps-90s-fad-or-useful.html) and [here](http://practicalcheminformatics.blogspot.com/2018/10/self-organizing-maps-code-part-2.html) about SOMs, so I won't provide additional background. \n",
    "\n",
    "Initialize the SOM"
   ]
  },
  {
   "cell_type": "code",
   "execution_count": 16,
   "id": "8558e422",
   "metadata": {},
   "outputs": [],
   "source": [
    "som = MiniSom(5,5,3, random_seed=1)\n",
    "som.train(X,1000)\n",
    "cell = [som.winner(i) for i in X]"
   ]
  },
  {
   "cell_type": "markdown",
   "id": "86be087e",
   "metadata": {},
   "source": [
    "Create column in the dataframe to hold the cell ids"
   ]
  },
  {
   "cell_type": "code",
   "execution_count": 17,
   "id": "e6707be8",
   "metadata": {},
   "outputs": [],
   "source": [
    "lig_df['cell'] = cell"
   ]
  },
  {
   "cell_type": "code",
   "execution_count": 18,
   "id": "6f071a06",
   "metadata": {},
   "outputs": [
    {
     "data": {
      "text/html": [
       "<div>\n",
       "<style scoped>\n",
       "    .dataframe tbody tr th:only-of-type {\n",
       "        vertical-align: middle;\n",
       "    }\n",
       "\n",
       "    .dataframe tbody tr th {\n",
       "        vertical-align: top;\n",
       "    }\n",
       "\n",
       "    .dataframe thead th {\n",
       "        text-align: right;\n",
       "    }\n",
       "</style>\n",
       "<table border=\"1\" class=\"dataframe\">\n",
       "  <thead>\n",
       "    <tr style=\"text-align: right;\">\n",
       "      <th></th>\n",
       "      <th>ROMol</th>\n",
       "      <th>Name</th>\n",
       "      <th>Sequence</th>\n",
       "      <th>center</th>\n",
       "      <th>cell</th>\n",
       "    </tr>\n",
       "  </thead>\n",
       "  <tbody>\n",
       "    <tr>\n",
       "      <th>0</th>\n",
       "      <td>&lt;rdkit.Chem.rdchem.Mol object at 0x305c8b140&gt;</td>\n",
       "      <td>5S18</td>\n",
       "      <td>0</td>\n",
       "      <td>[-46.23444444444445, -29.396777777777782, 5.66...</td>\n",
       "      <td>(0, 4)</td>\n",
       "    </tr>\n",
       "    <tr>\n",
       "      <th>1</th>\n",
       "      <td>&lt;rdkit.Chem.rdchem.Mol object at 0x305c8aff0&gt;</td>\n",
       "      <td>5S1A</td>\n",
       "      <td>0</td>\n",
       "      <td>[-46.644222222222226, -29.43866666666667, 5.49...</td>\n",
       "      <td>(0, 4)</td>\n",
       "    </tr>\n",
       "    <tr>\n",
       "      <th>2</th>\n",
       "      <td>&lt;rdkit.Chem.rdchem.Mol object at 0x305c8aa40&gt;</td>\n",
       "      <td>5S1C</td>\n",
       "      <td>0</td>\n",
       "      <td>[-51.00444444444444, -29.485555555555557, 7.08...</td>\n",
       "      <td>(0, 1)</td>\n",
       "    </tr>\n",
       "    <tr>\n",
       "      <th>3</th>\n",
       "      <td>&lt;rdkit.Chem.rdchem.Mol object at 0x305c8aab0&gt;</td>\n",
       "      <td>5S1E</td>\n",
       "      <td>0</td>\n",
       "      <td>[-47.04877777777778, -29.527111111111108, 6.12...</td>\n",
       "      <td>(0, 3)</td>\n",
       "    </tr>\n",
       "    <tr>\n",
       "      <th>4</th>\n",
       "      <td>&lt;rdkit.Chem.rdchem.Mol object at 0x305c8a3b0&gt;</td>\n",
       "      <td>5S1G</td>\n",
       "      <td>0</td>\n",
       "      <td>[-49.88333333333333, -29.180333333333333, 5.83...</td>\n",
       "      <td>(0, 2)</td>\n",
       "    </tr>\n",
       "    <tr>\n",
       "      <th>...</th>\n",
       "      <td>...</td>\n",
       "      <td>...</td>\n",
       "      <td>...</td>\n",
       "      <td>...</td>\n",
       "      <td>...</td>\n",
       "    </tr>\n",
       "    <tr>\n",
       "      <th>237</th>\n",
       "      <td>&lt;rdkit.Chem.rdchem.Mol object at 0x3068e7bc0&gt;</td>\n",
       "      <td>5RVG</td>\n",
       "      <td>0</td>\n",
       "      <td>[-45.32344444444445, -30.154833333333336, 3.48...</td>\n",
       "      <td>(1, 3)</td>\n",
       "    </tr>\n",
       "    <tr>\n",
       "      <th>238</th>\n",
       "      <td>&lt;rdkit.Chem.rdchem.Mol object at 0x3068e7c30&gt;</td>\n",
       "      <td>5RVG</td>\n",
       "      <td>1</td>\n",
       "      <td>[-50.29416666666667, -0.5523888888888888, -2.7...</td>\n",
       "      <td>(4, 2)</td>\n",
       "    </tr>\n",
       "    <tr>\n",
       "      <th>239</th>\n",
       "      <td>&lt;rdkit.Chem.rdchem.Mol object at 0x3068e7ca0&gt;</td>\n",
       "      <td>5RVH</td>\n",
       "      <td>0</td>\n",
       "      <td>[-48.872615384615386, -29.330153846153845, 5.0...</td>\n",
       "      <td>(0, 2)</td>\n",
       "    </tr>\n",
       "    <tr>\n",
       "      <th>240</th>\n",
       "      <td>&lt;rdkit.Chem.rdchem.Mol object at 0x3068e7d10&gt;</td>\n",
       "      <td>5RVI</td>\n",
       "      <td>0</td>\n",
       "      <td>[-48.14690909090909, -29.143727272727276, 4.17...</td>\n",
       "      <td>(1, 2)</td>\n",
       "    </tr>\n",
       "    <tr>\n",
       "      <th>241</th>\n",
       "      <td>&lt;rdkit.Chem.rdchem.Mol object at 0x3068e7d80&gt;</td>\n",
       "      <td>5RV1</td>\n",
       "      <td>0</td>\n",
       "      <td>[-42.76042857142857, -31.85457142857143, 1.462...</td>\n",
       "      <td>(1, 4)</td>\n",
       "    </tr>\n",
       "  </tbody>\n",
       "</table>\n",
       "<p>242 rows × 5 columns</p>\n",
       "</div>"
      ],
      "text/plain": [
       "                                             ROMol  Name Sequence  \\\n",
       "0    <rdkit.Chem.rdchem.Mol object at 0x305c8b140>  5S18        0   \n",
       "1    <rdkit.Chem.rdchem.Mol object at 0x305c8aff0>  5S1A        0   \n",
       "2    <rdkit.Chem.rdchem.Mol object at 0x305c8aa40>  5S1C        0   \n",
       "3    <rdkit.Chem.rdchem.Mol object at 0x305c8aab0>  5S1E        0   \n",
       "4    <rdkit.Chem.rdchem.Mol object at 0x305c8a3b0>  5S1G        0   \n",
       "..                                             ...   ...      ...   \n",
       "237  <rdkit.Chem.rdchem.Mol object at 0x3068e7bc0>  5RVG        0   \n",
       "238  <rdkit.Chem.rdchem.Mol object at 0x3068e7c30>  5RVG        1   \n",
       "239  <rdkit.Chem.rdchem.Mol object at 0x3068e7ca0>  5RVH        0   \n",
       "240  <rdkit.Chem.rdchem.Mol object at 0x3068e7d10>  5RVI        0   \n",
       "241  <rdkit.Chem.rdchem.Mol object at 0x3068e7d80>  5RV1        0   \n",
       "\n",
       "                                                center    cell  \n",
       "0    [-46.23444444444445, -29.396777777777782, 5.66...  (0, 4)  \n",
       "1    [-46.644222222222226, -29.43866666666667, 5.49...  (0, 4)  \n",
       "2    [-51.00444444444444, -29.485555555555557, 7.08...  (0, 1)  \n",
       "3    [-47.04877777777778, -29.527111111111108, 6.12...  (0, 3)  \n",
       "4    [-49.88333333333333, -29.180333333333333, 5.83...  (0, 2)  \n",
       "..                                                 ...     ...  \n",
       "237  [-45.32344444444445, -30.154833333333336, 3.48...  (1, 3)  \n",
       "238  [-50.29416666666667, -0.5523888888888888, -2.7...  (4, 2)  \n",
       "239  [-48.872615384615386, -29.330153846153845, 5.0...  (0, 2)  \n",
       "240  [-48.14690909090909, -29.143727272727276, 4.17...  (1, 2)  \n",
       "241  [-42.76042857142857, -31.85457142857143, 1.462...  (1, 4)  \n",
       "\n",
       "[242 rows x 5 columns]"
      ]
     },
     "execution_count": 18,
     "metadata": {},
     "output_type": "execute_result"
    }
   ],
   "source": [
    "lig_df"
   ]
  },
  {
   "cell_type": "markdown",
   "id": "8a253b6e",
   "metadata": {},
   "source": [
    "Create a dataframe to hold the occupied SOM cells"
   ]
  },
  {
   "cell_type": "code",
   "execution_count": 19,
   "id": "8f61928b",
   "metadata": {},
   "outputs": [],
   "source": [
    "cell_df = lig_df.cell.value_counts().to_frame().reset_index()\n",
    "cell_df.columns = [\"Cell\",\"Count\"]"
   ]
  },
  {
   "cell_type": "markdown",
   "id": "4cb39e47",
   "metadata": {},
   "source": [
    "Plot the SOM, the point size is proportional to the number of ligands in a cell.  The numbers adjacent to the points are the cluster ids.  Adjacent cells represent clusters that are close 3D in space (adjacent pockets) on the protein. For instance, clusters 5,4,1, and 6 are adjacent to cluster 0.   "
   ]
  },
  {
   "cell_type": "code",
   "execution_count": 20,
   "id": "ae716939",
   "metadata": {},
   "outputs": [
    {
     "data": {
      "image/png": "[encoded data removed]",
      "text/plain": [
       "<Figure size 1000x1000 with 1 Axes>"
      ]
     },
     "metadata": {},
     "output_type": "display_data"
    }
   ],
   "source": [
    "sns.set(rc={'figure.figsize': (10, 10)})\n",
    "sns.set_style('whitegrid')\n",
    "sns.set_context('talk')\n",
    "cell_df['x'] = [x[0] for x in cell_df.Cell]\n",
    "cell_df['y'] = [x[1] for x in cell_df.Cell]\n",
    "ax = sns.scatterplot(x=\"x\",y='y',size=\"Count\",data=cell_df,sizes=(40,500),color=\"lightblue\")\n",
    "ax.legend(title=\"Count\",loc='upper left', bbox_to_anchor=(1.00, 0.75), ncol=1)\n",
    "cell_df.sort_values('Count',ascending=False)\n",
    "cell_df['ix'] = range(0,len(cell_df))\n",
    "for x,y,ix in cell_df[['x','y','ix']].values:\n",
    "    ax.text(x+0.1,y+0.1,ix)    "
   ]
  },
  {
   "cell_type": "markdown",
   "id": "aa6d4652",
   "metadata": {},
   "source": [
    "Write each cluster to an SD file.  To look at the clusters with PyMol, you can do \n",
    "<pre>\n",
    "pymol 5RS7_aligned.pdb cluster*.sdf\n",
    "</pre>\n",
    "Then, in PyMol, execute these commands\n",
    "<pre>\n",
    "zoom all\n",
    "set all_states,on"
   ]
  },
  {
   "cell_type": "code",
   "execution_count": 24,
   "id": "8fb9e037",
   "metadata": {},
   "outputs": [
    {
     "name": "stdout",
     "output_type": "stream",
     "text": [
      "som_cluster_000.sdf (0, 2) 48\n",
      "som_cluster_001.sdf (1, 3) 25\n",
      "som_cluster_002.sdf (2, 4) 21\n",
      "som_cluster_003.sdf (0, 4) 17\n",
      "som_cluster_004.sdf (1, 2) 17\n",
      "som_cluster_005.sdf (0, 1) 16\n",
      "som_cluster_006.sdf (0, 3) 15\n",
      "som_cluster_007.sdf (1, 0) 15\n",
      "som_cluster_008.sdf (2, 3) 14\n",
      "som_cluster_009.sdf (3, 4) 9\n",
      "som_cluster_010.sdf (1, 4) 9\n",
      "som_cluster_011.sdf (3, 0) 7\n",
      "som_cluster_012.sdf (4, 2) 6\n",
      "som_cluster_013.sdf (4, 0) 5\n",
      "som_cluster_014.sdf (4, 3) 4\n",
      "som_cluster_015.sdf (4, 4) 4\n",
      "som_cluster_016.sdf (2, 0) 3\n",
      "som_cluster_017.sdf (3, 2) 3\n",
      "som_cluster_018.sdf (4, 1) 3\n",
      "som_cluster_019.sdf (0, 0) 1\n"
     ]
    }
   ],
   "source": [
    "# delete any files named cluster*.sdf\n",
    "for filename in glob(\"som_cluster*.sdf\"):\n",
    "    os.unlink(filename)\n",
    "\n",
    "# write each cluster as an SDF\n",
    "for i,x in enumerate(lig_df.cell.value_counts().index):\n",
    "    cluster_df = lig_df.query(\"cell == @x\")\n",
    "    filename = f\"som_cluster_{i:03d}.sdf\"\n",
    "    print(filename, x, cluster_df.shape[0])\n",
    "    PandasTools.WriteSDF(cluster_df,filename,properties=[\"Name\",\"Sequence\"])"
   ]
  },
  {
   "cell_type": "markdown",
   "id": "41c2da3e",
   "metadata": {},
   "source": [
    "## 5. (Extra) Clustering with HDBSCAN\n",
    "\n",
    "I was reading the post [Geographic Clustering with HDBSCAN](https://towardsdatascience.com/geographic-clustering-with-hdbscan-ef8cb0ed6051) by João Paulo Figueira and though I'd give the approach a try using this dataset.  After all, this data is sort of geographic, right?  Note that number of clusters can be controlled using the parameter **min_cluster_size** in HBDBScan.  Setting this value to a small number gives lots of smaller clusters.  Setting it to a larger value gives a smaller number of large cluster.  Singletons are in cluster -1. "
   ]
  },
  {
   "cell_type": "code",
   "execution_count": 25,
   "id": "37173a09",
   "metadata": {},
   "outputs": [],
   "source": [
    "from hdbscan import HDBSCAN"
   ]
  },
  {
   "cell_type": "code",
   "execution_count": 26,
   "id": "a5447232",
   "metadata": {},
   "outputs": [
    {
     "data": {
      "text/html": [
       "<style>#sk-container-id-1 {color: black;}#sk-container-id-1 pre{padding: 0;}#sk-container-id-1 div.sk-toggleable {background-color: white;}#sk-container-id-1 label.sk-toggleable__label {cursor: pointer;display: block;width: 100%;margin-bottom: 0;padding: 0.3em;box-sizing: border-box;text-align: center;}#sk-container-id-1 label.sk-toggleable__label-arrow:before {content: \"▸\";float: left;margin-right: 0.25em;color: #696969;}#sk-container-id-1 label.sk-toggleable__label-arrow:hover:before {color: black;}#sk-container-id-1 div.sk-estimator:hover label.sk-toggleable__label-arrow:before {color: black;}#sk-container-id-1 div.sk-toggleable__content {max-height: 0;max-width: 0;overflow: hidden;text-align: left;background-color: #f0f8ff;}#sk-container-id-1 div.sk-toggleable__content pre {margin: 0.2em;color: black;border-radius: 0.25em;background-color: #f0f8ff;}#sk-container-id-1 input.sk-toggleable__control:checked~div.sk-toggleable__content {max-height: 200px;max-width: 100%;overflow: auto;}#sk-container-id-1 input.sk-toggleable__control:checked~label.sk-toggleable__label-arrow:before {content: \"▾\";}#sk-container-id-1 div.sk-estimator input.sk-toggleable__control:checked~label.sk-toggleable__label {background-color: #d4ebff;}#sk-container-id-1 div.sk-label input.sk-toggleable__control:checked~label.sk-toggleable__label {background-color: #d4ebff;}#sk-container-id-1 input.sk-hidden--visually {border: 0;clip: rect(1px 1px 1px 1px);clip: rect(1px, 1px, 1px, 1px);height: 1px;margin: -1px;overflow: hidden;padding: 0;position: absolute;width: 1px;}#sk-container-id-1 div.sk-estimator {font-family: monospace;background-color: #f0f8ff;border: 1px dotted black;border-radius: 0.25em;box-sizing: border-box;margin-bottom: 0.5em;}#sk-container-id-1 div.sk-estimator:hover {background-color: #d4ebff;}#sk-container-id-1 div.sk-parallel-item::after {content: \"\";width: 100%;border-bottom: 1px solid gray;flex-grow: 1;}#sk-container-id-1 div.sk-label:hover label.sk-toggleable__label {background-color: #d4ebff;}#sk-container-id-1 div.sk-serial::before {content: \"\";position: absolute;border-left: 1px solid gray;box-sizing: border-box;top: 0;bottom: 0;left: 50%;z-index: 0;}#sk-container-id-1 div.sk-serial {display: flex;flex-direction: column;align-items: center;background-color: white;padding-right: 0.2em;padding-left: 0.2em;position: relative;}#sk-container-id-1 div.sk-item {position: relative;z-index: 1;}#sk-container-id-1 div.sk-parallel {display: flex;align-items: stretch;justify-content: center;background-color: white;position: relative;}#sk-container-id-1 div.sk-item::before, #sk-container-id-1 div.sk-parallel-item::before {content: \"\";position: absolute;border-left: 1px solid gray;box-sizing: border-box;top: 0;bottom: 0;left: 50%;z-index: -1;}#sk-container-id-1 div.sk-parallel-item {display: flex;flex-direction: column;z-index: 1;position: relative;background-color: white;}#sk-container-id-1 div.sk-parallel-item:first-child::after {align-self: flex-end;width: 50%;}#sk-container-id-1 div.sk-parallel-item:last-child::after {align-self: flex-start;width: 50%;}#sk-container-id-1 div.sk-parallel-item:only-child::after {width: 0;}#sk-container-id-1 div.sk-dashed-wrapped {border: 1px dashed gray;margin: 0 0.4em 0.5em 0.4em;box-sizing: border-box;padding-bottom: 0.4em;background-color: white;}#sk-container-id-1 div.sk-label label {font-family: monospace;font-weight: bold;display: inline-block;line-height: 1.2em;}#sk-container-id-1 div.sk-label-container {text-align: center;}#sk-container-id-1 div.sk-container {/* jupyter's `normalize.less` sets `[hidden] { display: none; }` but bootstrap.min.css set `[hidden] { display: none !important; }` so we also need the `!important` here to be able to override the default hidden behavior on the sphinx rendered scikit-learn.org. See: https://github.com/scikit-learn/scikit-learn/issues/21755 */display: inline-block !important;position: relative;}#sk-container-id-1 div.sk-text-repr-fallback {display: none;}</style><div id=\"sk-container-id-1\" class=\"sk-top-container\"><div class=\"sk-text-repr-fallback\"><pre>HDBSCAN(gen_min_span_tree=True, min_cluster_size=2)</pre><b>In a Jupyter environment, please rerun this cell to show the HTML representation or trust the notebook. <br />On GitHub, the HTML representation is unable to render, please try loading this page with nbviewer.org.</b></div><div class=\"sk-container\" hidden><div class=\"sk-item\"><div class=\"sk-estimator sk-toggleable\"><input class=\"sk-toggleable__control sk-hidden--visually\" id=\"sk-estimator-id-1\" type=\"checkbox\" checked><label for=\"sk-estimator-id-1\" class=\"sk-toggleable__label sk-toggleable__label-arrow\">HDBSCAN</label><div class=\"sk-toggleable__content\"><pre>HDBSCAN(gen_min_span_tree=True, min_cluster_size=2)</pre></div></div></div></div></div>"
      ],
      "text/plain": [
       "HDBSCAN(gen_min_span_tree=True, min_cluster_size=2)"
      ]
     },
     "execution_count": 26,
     "metadata": {},
     "output_type": "execute_result"
    }
   ],
   "source": [
    "clusterer = HDBSCAN(min_cluster_size=2, gen_min_span_tree=True)\n",
    "clusterer.fit(X)"
   ]
  },
  {
   "cell_type": "code",
   "execution_count": 27,
   "id": "24c1ea74",
   "metadata": {},
   "outputs": [],
   "source": [
    "lig_df['hdbscan'] = clusterer.labels_"
   ]
  },
  {
   "cell_type": "code",
   "execution_count": 28,
   "id": "2f617d9c",
   "metadata": {},
   "outputs": [
    {
     "data": {
      "text/plain": [
       "hdbscan\n",
       "-1     49\n",
       " 23    36\n",
       " 8     26\n",
       " 9     18\n",
       " 14    15\n",
       " 11    11\n",
       " 2      9\n",
       " 17     7\n",
       " 7      7\n",
       " 21     7\n",
       " 22     6\n",
       " 4      6\n",
       " 15     5\n",
       " 20     5\n",
       " 3      5\n",
       " 10     4\n",
       " 0      4\n",
       " 1      4\n",
       " 18     3\n",
       " 19     3\n",
       " 6      3\n",
       " 5      3\n",
       " 16     2\n",
       " 13     2\n",
       " 12     2\n",
       "Name: count, dtype: int64"
      ]
     },
     "execution_count": 28,
     "metadata": {},
     "output_type": "execute_result"
    }
   ],
   "source": [
    "lig_df.hdbscan.value_counts()"
   ]
  },
  {
   "cell_type": "code",
   "execution_count": 29,
   "id": "109b0df3",
   "metadata": {},
   "outputs": [
    {
     "name": "stdout",
     "output_type": "stream",
     "text": [
      "hdb_cluster_000.sdf -1 49\n",
      "hdb_cluster_001.sdf 23 36\n",
      "hdb_cluster_002.sdf 8 26\n",
      "hdb_cluster_003.sdf 9 18\n",
      "hdb_cluster_004.sdf 14 15\n",
      "hdb_cluster_005.sdf 11 11\n",
      "hdb_cluster_006.sdf 2 9\n",
      "hdb_cluster_007.sdf 17 7\n",
      "hdb_cluster_008.sdf 7 7\n",
      "hdb_cluster_009.sdf 21 7\n",
      "hdb_cluster_010.sdf 22 6\n",
      "hdb_cluster_011.sdf 4 6\n",
      "hdb_cluster_012.sdf 15 5\n",
      "hdb_cluster_013.sdf 20 5\n",
      "hdb_cluster_014.sdf 3 5\n",
      "hdb_cluster_015.sdf 10 4\n",
      "hdb_cluster_016.sdf 0 4\n",
      "hdb_cluster_017.sdf 1 4\n",
      "hdb_cluster_018.sdf 18 3\n",
      "hdb_cluster_019.sdf 19 3\n",
      "hdb_cluster_020.sdf 6 3\n",
      "hdb_cluster_021.sdf 5 3\n",
      "hdb_cluster_022.sdf 16 2\n",
      "hdb_cluster_023.sdf 13 2\n",
      "hdb_cluster_024.sdf 12 2\n"
     ]
    }
   ],
   "source": [
    "# delete any files named cluster*.sdf\n",
    "for filename in glob(\"hdb_cluster*.sdf\"):\n",
    "    os.unlink(filename)\n",
    "\n",
    "# write each cluster as an SDF\n",
    "for i,x in enumerate(lig_df.hdbscan.value_counts().index):\n",
    "    cluster_df = lig_df.query(\"hdbscan == @x\")\n",
    "    filename = f\"hdb_cluster_{i:03d}.sdf\"\n",
    "    print(filename, x, cluster_df.shape[0])\n",
    "    PandasTools.WriteSDF(cluster_df,filename,properties=[\"Name\",\"Sequence\"])"
   ]
  },
  {
   "cell_type": "code",
   "execution_count": null,
   "id": "0c5644e3",
   "metadata": {},
   "outputs": [],
   "source": []
  },
  {
   "cell_type": "code",
   "execution_count": null,
   "id": "82097ca4",
   "metadata": {},
   "outputs": [],
   "source": []
  }
 ],
 "metadata": {
  "kernelspec": {
   "display_name": "Python 3 (ipykernel)",
   "language": "python",
   "name": "python3"
  },
  "language_info": {
   "codemirror_mode": {
    "name": "ipython",
    "version": 3
   },
   "file_extension": ".py",
   "mimetype": "text/x-python",
   "name": "python",
   "nbconvert_exporter": "python",
   "pygments_lexer": "ipython3",
   "version": "3.11.3"
  }
 },
 "nbformat": 4,
 "nbformat_minor": 5
}
